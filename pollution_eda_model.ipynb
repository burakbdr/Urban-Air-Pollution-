{
 "cells": [
  {
   "cell_type": "markdown",
   "metadata": {},
   "source": [
    "# Import "
   ]
  },
  {
   "cell_type": "code",
   "execution_count": 2,
   "metadata": {},
   "outputs": [],
   "source": [
    "import pandas as pd\n",
    "import seaborn as sns\n",
    "import matplotlib.pyplot as plt\n",
    "import numpy as np\n",
    "\n",
    "from sklearn.model_selection import train_test_split\n",
    "\n",
    "\n",
    "from sklearn.metrics import mean_squared_error, r2_score\n",
    "from math import sqrt\n",
    "\n",
    "from sklearn.linear_model import LinearRegression\n",
    "from sklearn.linear_model import Lasso\n",
    "from sklearn.linear_model import Ridge\n",
    "\n",
    "from sklearn.ensemble import BaggingRegressor, AdaBoostRegressor\n",
    "from sklearn.ensemble import RandomForestRegressor\n",
    "from sklearn.ensemble import ExtraTreesRegressor\n",
    "from sklearn.neighbors import KNeighborsRegressor\n",
    "from sklearn.ensemble import GradientBoostingRegressor\n",
    "from sklearn.ensemble import StackingRegressor\n",
    "\n",
    "from sklearn.model_selection import GridSearchCV, RandomizedSearchCV\n",
    "\n",
    "from sklearn.pipeline import Pipeline\n",
    "from sklearn.metrics import *"
   ]
  },
  {
   "cell_type": "markdown",
   "metadata": {},
   "source": [
    "# EDA"
   ]
  },
  {
   "cell_type": "code",
   "execution_count": 2,
   "metadata": {},
   "outputs": [],
   "source": [
    "pd.set_option('display.max_rows', None)\n",
    "pd.set_option('display.max_columns', None)"
   ]
  },
  {
   "cell_type": "code",
   "execution_count": 3,
   "metadata": {},
   "outputs": [
    {
     "data": {
      "text/html": [
       "<div>\n",
       "<style scoped>\n",
       "    .dataframe tbody tr th:only-of-type {\n",
       "        vertical-align: middle;\n",
       "    }\n",
       "\n",
       "    .dataframe tbody tr th {\n",
       "        vertical-align: top;\n",
       "    }\n",
       "\n",
       "    .dataframe thead th {\n",
       "        text-align: right;\n",
       "    }\n",
       "</style>\n",
       "<table border=\"1\" class=\"dataframe\">\n",
       "  <thead>\n",
       "    <tr style=\"text-align: right;\">\n",
       "      <th></th>\n",
       "      <th>Place_ID X Date</th>\n",
       "      <th>Date</th>\n",
       "      <th>Place_ID</th>\n",
       "      <th>target</th>\n",
       "      <th>target_min</th>\n",
       "      <th>target_max</th>\n",
       "      <th>target_variance</th>\n",
       "      <th>target_count</th>\n",
       "      <th>precipitable_water_entire_atmosphere</th>\n",
       "      <th>relative_humidity_2m_above_ground</th>\n",
       "      <th>...</th>\n",
       "      <th>L3_SO2_sensor_zenith_angle</th>\n",
       "      <th>L3_SO2_solar_azimuth_angle</th>\n",
       "      <th>L3_SO2_solar_zenith_angle</th>\n",
       "      <th>L3_CH4_CH4_column_volume_mixing_ratio_dry_air</th>\n",
       "      <th>L3_CH4_aerosol_height</th>\n",
       "      <th>L3_CH4_aerosol_optical_depth</th>\n",
       "      <th>L3_CH4_sensor_azimuth_angle</th>\n",
       "      <th>L3_CH4_sensor_zenith_angle</th>\n",
       "      <th>L3_CH4_solar_azimuth_angle</th>\n",
       "      <th>L3_CH4_solar_zenith_angle</th>\n",
       "    </tr>\n",
       "  </thead>\n",
       "  <tbody>\n",
       "    <tr>\n",
       "      <th>0</th>\n",
       "      <td>010Q650 X 2020-01-02</td>\n",
       "      <td>2020-01-02</td>\n",
       "      <td>010Q650</td>\n",
       "      <td>38.0</td>\n",
       "      <td>23.0</td>\n",
       "      <td>53.0</td>\n",
       "      <td>769.50</td>\n",
       "      <td>92</td>\n",
       "      <td>11.000000</td>\n",
       "      <td>60.200001</td>\n",
       "      <td>...</td>\n",
       "      <td>38.593017</td>\n",
       "      <td>-61.752587</td>\n",
       "      <td>22.363665</td>\n",
       "      <td>1793.793579</td>\n",
       "      <td>3227.855469</td>\n",
       "      <td>0.010579</td>\n",
       "      <td>74.481049</td>\n",
       "      <td>37.501499</td>\n",
       "      <td>-62.142639</td>\n",
       "      <td>22.545118</td>\n",
       "    </tr>\n",
       "    <tr>\n",
       "      <th>1</th>\n",
       "      <td>010Q650 X 2020-01-03</td>\n",
       "      <td>2020-01-03</td>\n",
       "      <td>010Q650</td>\n",
       "      <td>39.0</td>\n",
       "      <td>25.0</td>\n",
       "      <td>63.0</td>\n",
       "      <td>1319.85</td>\n",
       "      <td>91</td>\n",
       "      <td>14.600000</td>\n",
       "      <td>48.799999</td>\n",
       "      <td>...</td>\n",
       "      <td>59.624912</td>\n",
       "      <td>-67.693509</td>\n",
       "      <td>28.614804</td>\n",
       "      <td>1789.960449</td>\n",
       "      <td>3384.226562</td>\n",
       "      <td>0.015104</td>\n",
       "      <td>75.630043</td>\n",
       "      <td>55.657486</td>\n",
       "      <td>-53.868134</td>\n",
       "      <td>19.293652</td>\n",
       "    </tr>\n",
       "    <tr>\n",
       "      <th>2</th>\n",
       "      <td>010Q650 X 2020-01-04</td>\n",
       "      <td>2020-01-04</td>\n",
       "      <td>010Q650</td>\n",
       "      <td>24.0</td>\n",
       "      <td>8.0</td>\n",
       "      <td>56.0</td>\n",
       "      <td>1181.96</td>\n",
       "      <td>96</td>\n",
       "      <td>16.400000</td>\n",
       "      <td>33.400002</td>\n",
       "      <td>...</td>\n",
       "      <td>49.839714</td>\n",
       "      <td>-78.342701</td>\n",
       "      <td>34.296977</td>\n",
       "      <td>NaN</td>\n",
       "      <td>NaN</td>\n",
       "      <td>NaN</td>\n",
       "      <td>NaN</td>\n",
       "      <td>NaN</td>\n",
       "      <td>NaN</td>\n",
       "      <td>NaN</td>\n",
       "    </tr>\n",
       "    <tr>\n",
       "      <th>3</th>\n",
       "      <td>010Q650 X 2020-01-05</td>\n",
       "      <td>2020-01-05</td>\n",
       "      <td>010Q650</td>\n",
       "      <td>49.0</td>\n",
       "      <td>10.0</td>\n",
       "      <td>55.0</td>\n",
       "      <td>1113.67</td>\n",
       "      <td>96</td>\n",
       "      <td>6.911948</td>\n",
       "      <td>21.300001</td>\n",
       "      <td>...</td>\n",
       "      <td>29.181258</td>\n",
       "      <td>-73.896588</td>\n",
       "      <td>30.545446</td>\n",
       "      <td>NaN</td>\n",
       "      <td>NaN</td>\n",
       "      <td>NaN</td>\n",
       "      <td>NaN</td>\n",
       "      <td>NaN</td>\n",
       "      <td>NaN</td>\n",
       "      <td>NaN</td>\n",
       "    </tr>\n",
       "    <tr>\n",
       "      <th>4</th>\n",
       "      <td>010Q650 X 2020-01-06</td>\n",
       "      <td>2020-01-06</td>\n",
       "      <td>010Q650</td>\n",
       "      <td>21.0</td>\n",
       "      <td>9.0</td>\n",
       "      <td>52.0</td>\n",
       "      <td>1164.82</td>\n",
       "      <td>95</td>\n",
       "      <td>13.900001</td>\n",
       "      <td>44.700001</td>\n",
       "      <td>...</td>\n",
       "      <td>0.797294</td>\n",
       "      <td>-68.612480</td>\n",
       "      <td>26.899694</td>\n",
       "      <td>NaN</td>\n",
       "      <td>NaN</td>\n",
       "      <td>NaN</td>\n",
       "      <td>NaN</td>\n",
       "      <td>NaN</td>\n",
       "      <td>NaN</td>\n",
       "      <td>NaN</td>\n",
       "    </tr>\n",
       "  </tbody>\n",
       "</table>\n",
       "<p>5 rows × 82 columns</p>\n",
       "</div>"
      ],
      "text/plain": [
       "        Place_ID X Date        Date Place_ID  target  target_min  target_max   \n",
       "0  010Q650 X 2020-01-02  2020-01-02  010Q650    38.0        23.0        53.0  \\\n",
       "1  010Q650 X 2020-01-03  2020-01-03  010Q650    39.0        25.0        63.0   \n",
       "2  010Q650 X 2020-01-04  2020-01-04  010Q650    24.0         8.0        56.0   \n",
       "3  010Q650 X 2020-01-05  2020-01-05  010Q650    49.0        10.0        55.0   \n",
       "4  010Q650 X 2020-01-06  2020-01-06  010Q650    21.0         9.0        52.0   \n",
       "\n",
       "   target_variance  target_count  precipitable_water_entire_atmosphere   \n",
       "0           769.50            92                             11.000000  \\\n",
       "1          1319.85            91                             14.600000   \n",
       "2          1181.96            96                             16.400000   \n",
       "3          1113.67            96                              6.911948   \n",
       "4          1164.82            95                             13.900001   \n",
       "\n",
       "   relative_humidity_2m_above_ground  ...  L3_SO2_sensor_zenith_angle   \n",
       "0                          60.200001  ...                   38.593017  \\\n",
       "1                          48.799999  ...                   59.624912   \n",
       "2                          33.400002  ...                   49.839714   \n",
       "3                          21.300001  ...                   29.181258   \n",
       "4                          44.700001  ...                    0.797294   \n",
       "\n",
       "   L3_SO2_solar_azimuth_angle  L3_SO2_solar_zenith_angle   \n",
       "0                  -61.752587                  22.363665  \\\n",
       "1                  -67.693509                  28.614804   \n",
       "2                  -78.342701                  34.296977   \n",
       "3                  -73.896588                  30.545446   \n",
       "4                  -68.612480                  26.899694   \n",
       "\n",
       "   L3_CH4_CH4_column_volume_mixing_ratio_dry_air  L3_CH4_aerosol_height   \n",
       "0                                    1793.793579            3227.855469  \\\n",
       "1                                    1789.960449            3384.226562   \n",
       "2                                            NaN                    NaN   \n",
       "3                                            NaN                    NaN   \n",
       "4                                            NaN                    NaN   \n",
       "\n",
       "   L3_CH4_aerosol_optical_depth  L3_CH4_sensor_azimuth_angle   \n",
       "0                      0.010579                    74.481049  \\\n",
       "1                      0.015104                    75.630043   \n",
       "2                           NaN                          NaN   \n",
       "3                           NaN                          NaN   \n",
       "4                           NaN                          NaN   \n",
       "\n",
       "   L3_CH4_sensor_zenith_angle  L3_CH4_solar_azimuth_angle   \n",
       "0                   37.501499                  -62.142639  \\\n",
       "1                   55.657486                  -53.868134   \n",
       "2                         NaN                         NaN   \n",
       "3                         NaN                         NaN   \n",
       "4                         NaN                         NaN   \n",
       "\n",
       "   L3_CH4_solar_zenith_angle  \n",
       "0                  22.545118  \n",
       "1                  19.293652  \n",
       "2                        NaN  \n",
       "3                        NaN  \n",
       "4                        NaN  \n",
       "\n",
       "[5 rows x 82 columns]"
      ]
     },
     "execution_count": 3,
     "metadata": {},
     "output_type": "execute_result"
    }
   ],
   "source": [
    "df_train = pd.read_csv('data/Train.csv')\n",
    "df_train.head()"
   ]
  },
  {
   "cell_type": "code",
   "execution_count": 4,
   "metadata": {},
   "outputs": [],
   "source": [
    "df_test = pd.read_csv('data/Test.csv')"
   ]
  },
  {
   "cell_type": "code",
   "execution_count": 5,
   "metadata": {},
   "outputs": [],
   "source": [
    "df_train.columns = df_train.columns.str.lower()"
   ]
  },
  {
   "cell_type": "code",
   "execution_count": 6,
   "metadata": {},
   "outputs": [],
   "source": [
    "df_test.columns = df_test.columns.str.lower()"
   ]
  },
  {
   "cell_type": "code",
   "execution_count": 27,
   "metadata": {},
   "outputs": [
    {
     "name": "stdout",
     "output_type": "stream",
     "text": [
      "<class 'pandas.core.frame.DataFrame'>\n",
      "RangeIndex: 30557 entries, 0 to 30556\n",
      "Data columns (total 89 columns):\n",
      " #   Column                                               Non-Null Count  Dtype         \n",
      "---  ------                                               --------------  -----         \n",
      " 0   place_id x date                                      30557 non-null  object        \n",
      " 1   date                                                 30557 non-null  datetime64[ns]\n",
      " 2   place_id                                             30557 non-null  object        \n",
      " 3   target                                               30557 non-null  float64       \n",
      " 4   target_min                                           30557 non-null  float64       \n",
      " 5   target_max                                           30557 non-null  float64       \n",
      " 6   target_variance                                      30557 non-null  float64       \n",
      " 7   target_count                                         30557 non-null  int64         \n",
      " 8   precipitable_water_entire_atmosphere                 30557 non-null  float64       \n",
      " 9   relative_humidity_2m_above_ground                    30557 non-null  float64       \n",
      " 10  specific_humidity_2m_above_ground                    30557 non-null  float64       \n",
      " 11  temperature_2m_above_ground                          30557 non-null  float64       \n",
      " 12  u_component_of_wind_10m_above_ground                 30557 non-null  float64       \n",
      " 13  v_component_of_wind_10m_above_ground                 30557 non-null  float64       \n",
      " 14  l3_no2_no2_column_number_density                     28368 non-null  float64       \n",
      " 15  l3_no2_no2_slant_column_number_density               28368 non-null  float64       \n",
      " 16  l3_no2_absorbing_aerosol_index                       28368 non-null  float64       \n",
      " 17  l3_no2_cloud_fraction                                28368 non-null  float64       \n",
      " 18  l3_no2_sensor_altitude                               28368 non-null  float64       \n",
      " 19  l3_no2_sensor_azimuth_angle                          28367 non-null  float64       \n",
      " 20  l3_no2_sensor_zenith_angle                           28367 non-null  float64       \n",
      " 21  l3_no2_solar_azimuth_angle                           28367 non-null  float64       \n",
      " 22  l3_no2_solar_zenith_angle                            28367 non-null  float64       \n",
      " 23  l3_no2_stratospheric_no2_column_number_density       28367 non-null  float64       \n",
      " 24  l3_no2_tropopause_pressure                           28367 non-null  float64       \n",
      " 25  l3_no2_tropospheric_no2_column_number_density        21888 non-null  float64       \n",
      " 26  l3_o3_o3_column_number_density                       30274 non-null  float64       \n",
      " 27  l3_o3_o3_effective_temperature                       30274 non-null  float64       \n",
      " 28  l3_o3_cloud_fraction                                 30274 non-null  float64       \n",
      " 29  l3_o3_sensor_azimuth_angle                           30274 non-null  float64       \n",
      " 30  l3_o3_sensor_zenith_angle                            30274 non-null  float64       \n",
      " 31  l3_o3_solar_azimuth_angle                            30274 non-null  float64       \n",
      " 32  l3_o3_solar_zenith_angle                             30274 non-null  float64       \n",
      " 33  l3_co_co_column_number_density                       25134 non-null  float64       \n",
      " 34  l3_co_h2o_column_number_density                      25134 non-null  float64       \n",
      " 35  l3_co_cloud_height                                   25134 non-null  float64       \n",
      " 36  l3_co_sensor_altitude                                25134 non-null  float64       \n",
      " 37  l3_co_sensor_azimuth_angle                           25134 non-null  float64       \n",
      " 38  l3_co_sensor_zenith_angle                            25134 non-null  float64       \n",
      " 39  l3_co_solar_azimuth_angle                            25134 non-null  float64       \n",
      " 40  l3_co_solar_zenith_angle                             25134 non-null  float64       \n",
      " 41  l3_hcho_hcho_slant_column_number_density             23132 non-null  float64       \n",
      " 42  l3_hcho_cloud_fraction                               23132 non-null  float64       \n",
      " 43  l3_hcho_sensor_azimuth_angle                         23132 non-null  float64       \n",
      " 44  l3_hcho_sensor_zenith_angle                          23132 non-null  float64       \n",
      " 45  l3_hcho_solar_azimuth_angle                          23132 non-null  float64       \n",
      " 46  l3_hcho_solar_zenith_angle                           23132 non-null  float64       \n",
      " 47  l3_hcho_tropospheric_hcho_column_number_density      23132 non-null  float64       \n",
      " 48  l3_hcho_tropospheric_hcho_column_number_density_amf  23132 non-null  float64       \n",
      " 49  l3_cloud_cloud_base_height                           29035 non-null  float64       \n",
      " 50  l3_cloud_cloud_base_pressure                         29035 non-null  float64       \n",
      " 51  l3_cloud_cloud_fraction                              30183 non-null  float64       \n",
      " 52  l3_cloud_cloud_optical_depth                         29035 non-null  float64       \n",
      " 53  l3_cloud_cloud_top_height                            29035 non-null  float64       \n",
      " 54  l3_cloud_cloud_top_pressure                          29035 non-null  float64       \n",
      " 55  l3_cloud_sensor_azimuth_angle                        30183 non-null  float64       \n",
      " 56  l3_cloud_sensor_zenith_angle                         30183 non-null  float64       \n",
      " 57  l3_cloud_solar_azimuth_angle                         30183 non-null  float64       \n",
      " 58  l3_cloud_solar_zenith_angle                          30183 non-null  float64       \n",
      " 59  l3_cloud_surface_albedo                              29035 non-null  float64       \n",
      " 60  l3_aer_ai_absorbing_aerosol_index                    30360 non-null  float64       \n",
      " 61  l3_aer_ai_sensor_altitude                            30360 non-null  float64       \n",
      " 62  l3_aer_ai_sensor_azimuth_angle                       30360 non-null  float64       \n",
      " 63  l3_aer_ai_sensor_zenith_angle                        30360 non-null  float64       \n",
      " 64  l3_aer_ai_solar_azimuth_angle                        30360 non-null  float64       \n",
      " 65  l3_aer_ai_solar_zenith_angle                         30360 non-null  float64       \n",
      " 66  l3_so2_so2_column_number_density                     23320 non-null  float64       \n",
      " 67  l3_so2_so2_column_number_density_amf                 23320 non-null  float64       \n",
      " 68  l3_so2_so2_slant_column_number_density               23320 non-null  float64       \n",
      " 69  l3_so2_absorbing_aerosol_index                       23249 non-null  float64       \n",
      " 70  l3_so2_cloud_fraction                                23320 non-null  float64       \n",
      " 71  l3_so2_sensor_azimuth_angle                          23320 non-null  float64       \n",
      " 72  l3_so2_sensor_zenith_angle                           23320 non-null  float64       \n",
      " 73  l3_so2_solar_azimuth_angle                           23320 non-null  float64       \n",
      " 74  l3_so2_solar_zenith_angle                            23320 non-null  float64       \n",
      " 75  l3_ch4_ch4_column_volume_mixing_ratio_dry_air        5792 non-null   float64       \n",
      " 76  l3_ch4_aerosol_height                                5792 non-null   float64       \n",
      " 77  l3_ch4_aerosol_optical_depth                         5792 non-null   float64       \n",
      " 78  l3_ch4_sensor_azimuth_angle                          5792 non-null   float64       \n",
      " 79  l3_ch4_sensor_zenith_angle                           5792 non-null   float64       \n",
      " 80  l3_ch4_solar_azimuth_angle                           5792 non-null   float64       \n",
      " 81  l3_ch4_solar_zenith_angle                            5792 non-null   float64       \n",
      " 82  year                                                 30557 non-null  int32         \n",
      " 83  month                                                30557 non-null  int32         \n",
      " 84  day                                                  30557 non-null  int32         \n",
      " 85  log_target                                           30557 non-null  float64       \n",
      " 86  log_target_min                                       30557 non-null  float64       \n",
      " 87  log_target_max                                       30557 non-null  float64       \n",
      " 88  sqrt_target                                          30557 non-null  float64       \n",
      "dtypes: datetime64[ns](1), float64(82), int32(3), int64(1), object(2)\n",
      "memory usage: 20.4+ MB\n"
     ]
    }
   ],
   "source": [
    "df_train.info()"
   ]
  },
  {
   "cell_type": "code",
   "execution_count": 7,
   "metadata": {},
   "outputs": [],
   "source": [
    "df_train['date'] = pd.to_datetime(df_train['date'])"
   ]
  },
  {
   "cell_type": "code",
   "execution_count": 8,
   "metadata": {},
   "outputs": [],
   "source": [
    "df_test['date'] = pd.to_datetime(df_test['date'])"
   ]
  },
  {
   "cell_type": "code",
   "execution_count": 28,
   "metadata": {},
   "outputs": [
    {
     "name": "stderr",
     "output_type": "stream",
     "text": [
      "/var/folders/0v/n3w11jxs0zxdx0ty34xv_fx40000gn/T/ipykernel_30096/1145112096.py:3: MatplotlibDeprecationWarning: The seaborn styles shipped by Matplotlib are deprecated since 3.6, as they no longer correspond to the styles shipped by seaborn. However, they will remain available as 'seaborn-v0_8-<style>'. Alternatively, directly use the seaborn API instead.\n",
      "  plt.style.use('seaborn')\n"
     ]
    },
    {
     "data": {
      "image/png": "[encoded data removed]",
      "text/plain": [
       "<Figure size 800x550 with 1 Axes>"
      ]
     },
     "metadata": {},
     "output_type": "display_data"
    }
   ],
   "source": [
    "plt.hist(df_train['target'], bins=50, edgecolor='black', color='skyblue', rwidth=0.85)\n",
    "plt.gca().set_facecolor('lightgray')\n",
    "plt.style.use('seaborn')\n",
    "plt.grid(True, linestyle='--', alpha=0.2, color='gray')\n",
    "plt.title(' ', fontsize=16)\n",
    "plt.xlabel('Target', fontsize=12)\n",
    "plt.ylabel('Frequency', fontsize=12)\n",
    "#plt.savefig('figures/price_psqft_dist.png') \n",
    "plt.show()"
   ]
  },
  {
   "cell_type": "code",
   "execution_count": 29,
   "metadata": {},
   "outputs": [
    {
     "name": "stderr",
     "output_type": "stream",
     "text": [
      "/var/folders/0v/n3w11jxs0zxdx0ty34xv_fx40000gn/T/ipykernel_30096/2441951723.py:3: MatplotlibDeprecationWarning: The seaborn styles shipped by Matplotlib are deprecated since 3.6, as they no longer correspond to the styles shipped by seaborn. However, they will remain available as 'seaborn-v0_8-<style>'. Alternatively, directly use the seaborn API instead.\n",
      "  plt.style.use('seaborn')\n"
     ]
    },
    {
     "data": {
      "image/png": "[encoded data removed]",
      "text/plain": [
       "<Figure size 800x550 with 1 Axes>"
      ]
     },
     "metadata": {},
     "output_type": "display_data"
    }
   ],
   "source": [
    "plt.hist(df_train['target_variance'], bins=50, edgecolor='black', color='skyblue', rwidth=0.85)\n",
    "plt.gca().set_facecolor('lightgray')\n",
    "plt.style.use('seaborn')\n",
    "plt.grid(True, linestyle='--', alpha=0.2, color='gray')\n",
    "plt.title(' ', fontsize=16)\n",
    "plt.xlabel('Target Variance', fontsize=12)\n",
    "plt.ylabel('Frequency', fontsize=12)\n",
    "#plt.savefig('figures/price_psqft_dist.png') \n",
    "plt.show()"
   ]
  },
  {
   "cell_type": "code",
   "execution_count": 12,
   "metadata": {},
   "outputs": [],
   "source": [
    "# Remove the unwanted columns for the correlation matrix\n",
    "df_corr = df_train.copy()\n",
    "df_corr = df_corr.drop(['place_id x date', 'date', 'place_id'], axis=1)"
   ]
  },
  {
   "cell_type": "code",
   "execution_count": 13,
   "metadata": {},
   "outputs": [
    {
     "name": "stdout",
     "output_type": "stream",
     "text": [
      "                                                   target\n",
      "target                                           1.000000\n",
      "target_min                                       0.818803\n",
      "target_max                                       0.630801\n",
      "l3_co_co_column_number_density                   0.375737\n",
      "l3_hcho_tropospheric_hcho_column_number_density  0.347125\n",
      "l3_hcho_hcho_slant_column_number_density         0.320849\n",
      "l3_no2_no2_slant_column_number_density           0.315718\n",
      "l3_no2_no2_column_number_density                 0.306772\n",
      "l3_no2_tropospheric_no2_column_number_density    0.295380\n",
      "target_variance                                  0.184818\n",
      "l3_so2_absorbing_aerosol_index                   0.152000\n",
      "l3_cloud_cloud_top_pressure                      0.123855\n",
      "l3_cloud_cloud_base_pressure                     0.097343\n",
      "target_count                                     0.094135\n",
      "l3_ch4_aerosol_optical_depth                     0.086445\n",
      "l3_ch4_ch4_column_volume_mixing_ratio_dry_air    0.075086\n",
      "l3_ch4_aerosol_height                            0.073632\n",
      "l3_aer_ai_absorbing_aerosol_index                0.070795\n",
      "l3_so2_so2_slant_column_number_density           0.059665\n",
      "l3_no2_sensor_altitude                           0.057273\n",
      "------------------------------\n",
      "                                                      target\n",
      "relative_humidity_2m_above_ground                  -0.084835\n",
      "l3_cloud_cloud_base_height                         -0.087670\n",
      "l3_o3_o3_column_number_density                     -0.088099\n",
      "l3_co_cloud_height                                 -0.106133\n",
      "l3_cloud_cloud_top_height                          -0.106536\n",
      "l3_o3_cloud_fraction                               -0.108538\n",
      "l3_cloud_cloud_fraction                            -0.113222\n",
      "l3_hcho_tropospheric_hcho_column_number_density... -0.114348\n",
      "l3_ch4_solar_azimuth_angle                         -0.118004\n",
      "l3_cloud_cloud_optical_depth                       -0.118504\n",
      "l3_no2_cloud_fraction                              -0.123956\n",
      "u_component_of_wind_10m_above_ground               -0.148202\n",
      "l3_co_solar_azimuth_angle                          -0.159954\n",
      "l3_no2_solar_azimuth_angle                         -0.177861\n",
      "l3_so2_solar_azimuth_angle                         -0.180241\n",
      "l3_hcho_solar_azimuth_angle                        -0.181548\n",
      "l3_o3_solar_azimuth_angle                          -0.185363\n",
      "l3_cloud_solar_azimuth_angle                       -0.187643\n",
      "l3_aer_ai_solar_azimuth_angle                      -0.193434\n",
      "l3_aer_ai_sensor_altitude                          -0.308308\n"
     ]
    }
   ],
   "source": [
    "correlation = df_corr.corr()['target']\n",
    "corr_data = pd.DataFrame(correlation)\n",
    "print(corr_data.sort_values(by='target', ascending=False).head(20))\n",
    "print('------------------------------')\n",
    "print(corr_data.sort_values(by='target', ascending=False).tail(20))\n"
   ]
  },
  {
   "cell_type": "code",
   "execution_count": 30,
   "metadata": {},
   "outputs": [
    {
     "data": {
      "text/html": [
       "<div>\n",
       "<style scoped>\n",
       "    .dataframe tbody tr th:only-of-type {\n",
       "        vertical-align: middle;\n",
       "    }\n",
       "\n",
       "    .dataframe tbody tr th {\n",
       "        vertical-align: top;\n",
       "    }\n",
       "\n",
       "    .dataframe thead th {\n",
       "        text-align: right;\n",
       "    }\n",
       "</style>\n",
       "<table border=\"1\" class=\"dataframe\">\n",
       "  <thead>\n",
       "    <tr style=\"text-align: right;\">\n",
       "      <th></th>\n",
       "      <th>place_id</th>\n",
       "      <th>Count</th>\n",
       "    </tr>\n",
       "  </thead>\n",
       "  <tbody>\n",
       "    <tr>\n",
       "      <th>0</th>\n",
       "      <td>010Q650</td>\n",
       "      <td>94</td>\n",
       "    </tr>\n",
       "    <tr>\n",
       "      <th>1</th>\n",
       "      <td>05EC30X</td>\n",
       "      <td>90</td>\n",
       "    </tr>\n",
       "    <tr>\n",
       "      <th>2</th>\n",
       "      <td>0DPWHX8</td>\n",
       "      <td>94</td>\n",
       "    </tr>\n",
       "    <tr>\n",
       "      <th>3</th>\n",
       "      <td>0GBXTHY</td>\n",
       "      <td>94</td>\n",
       "    </tr>\n",
       "    <tr>\n",
       "      <th>4</th>\n",
       "      <td>0HYPV1N</td>\n",
       "      <td>94</td>\n",
       "    </tr>\n",
       "    <tr>\n",
       "      <th>...</th>\n",
       "      <td>...</td>\n",
       "      <td>...</td>\n",
       "    </tr>\n",
       "    <tr>\n",
       "      <th>335</th>\n",
       "      <td>YLLOKEY</td>\n",
       "      <td>94</td>\n",
       "    </tr>\n",
       "    <tr>\n",
       "      <th>336</th>\n",
       "      <td>YLZOBFW</td>\n",
       "      <td>94</td>\n",
       "    </tr>\n",
       "    <tr>\n",
       "      <th>337</th>\n",
       "      <td>YPXSK14</td>\n",
       "      <td>94</td>\n",
       "    </tr>\n",
       "    <tr>\n",
       "      <th>338</th>\n",
       "      <td>YSIXKFZ</td>\n",
       "      <td>94</td>\n",
       "    </tr>\n",
       "    <tr>\n",
       "      <th>339</th>\n",
       "      <td>YWSFY6Q</td>\n",
       "      <td>78</td>\n",
       "    </tr>\n",
       "  </tbody>\n",
       "</table>\n",
       "<p>340 rows × 2 columns</p>\n",
       "</div>"
      ],
      "text/plain": [
       "    place_id  Count\n",
       "0    010Q650     94\n",
       "1    05EC30X     90\n",
       "2    0DPWHX8     94\n",
       "3    0GBXTHY     94\n",
       "4    0HYPV1N     94\n",
       "..       ...    ...\n",
       "335  YLLOKEY     94\n",
       "336  YLZOBFW     94\n",
       "337  YPXSK14     94\n",
       "338  YSIXKFZ     94\n",
       "339  YWSFY6Q     78\n",
       "\n",
       "[340 rows x 2 columns]"
      ]
     },
     "execution_count": 30,
     "metadata": {},
     "output_type": "execute_result"
    }
   ],
   "source": [
    "df_train.groupby(['place_id']).size().reset_index(name='Count')"
   ]
  },
  {
   "cell_type": "code",
   "execution_count": 9,
   "metadata": {},
   "outputs": [],
   "source": [
    "df_train['year'] = df_train['date'].dt.year\n",
    "df_train['month'] = df_train['date'].dt.month\n",
    "df_train['day'] = df_train['date'].dt.day\n",
    "\n",
    "df_test['year'] = df_test['date'].dt.year\n",
    "df_test['month'] = df_test['date'].dt.month\n",
    "df_test['day'] = df_test['date'].dt.day"
   ]
  },
  {
   "cell_type": "code",
   "execution_count": 10,
   "metadata": {},
   "outputs": [],
   "source": [
    "df_train['log_target'] = np.log(df_train['target'])\n"
   ]
  },
  {
   "cell_type": "code",
   "execution_count": 11,
   "metadata": {},
   "outputs": [],
   "source": [
    "df_train['log_target_min'] = np.log(df_train['target_min'])\n",
    "df_train['log_target_max'] = np.log(df_train['target_max'])"
   ]
  },
  {
   "cell_type": "code",
   "execution_count": 31,
   "metadata": {},
   "outputs": [
    {
     "name": "stderr",
     "output_type": "stream",
     "text": [
      "/var/folders/0v/n3w11jxs0zxdx0ty34xv_fx40000gn/T/ipykernel_30096/94072448.py:3: MatplotlibDeprecationWarning: The seaborn styles shipped by Matplotlib are deprecated since 3.6, as they no longer correspond to the styles shipped by seaborn. However, they will remain available as 'seaborn-v0_8-<style>'. Alternatively, directly use the seaborn API instead.\n",
      "  plt.style.use('seaborn')\n"
     ]
    },
    {
     "data": {
      "image/png": "[encoded data removed]",
      "text/plain": [
       "<Figure size 800x550 with 1 Axes>"
      ]
     },
     "metadata": {},
     "output_type": "display_data"
    }
   ],
   "source": [
    "plt.hist(df_train['log_target'], bins=50, edgecolor='black', color='skyblue', rwidth=0.85)\n",
    "plt.gca().set_facecolor('lightgray')\n",
    "plt.style.use('seaborn')\n",
    "plt.grid(True, linestyle='--', alpha=0.2, color='gray')\n",
    "plt.title(' ', fontsize=16)\n",
    "plt.xlabel('Log Target', fontsize=12)\n",
    "plt.ylabel('Frequency', fontsize=12)\n",
    "#plt.savefig('figures/price_psqft_dist.png') \n",
    "plt.show()"
   ]
  },
  {
   "cell_type": "code",
   "execution_count": 32,
   "metadata": {},
   "outputs": [
    {
     "name": "stderr",
     "output_type": "stream",
     "text": [
      "/var/folders/0v/n3w11jxs0zxdx0ty34xv_fx40000gn/T/ipykernel_30096/170671060.py:5: MatplotlibDeprecationWarning: The seaborn styles shipped by Matplotlib are deprecated since 3.6, as they no longer correspond to the styles shipped by seaborn. However, they will remain available as 'seaborn-v0_8-<style>'. Alternatively, directly use the seaborn API instead.\n",
      "  plt.style.use('seaborn')\n"
     ]
    },
    {
     "data": {
      "image/png": "[encoded data removed]",
      "text/plain": [
       "<Figure size 800x550 with 1 Axes>"
      ]
     },
     "metadata": {},
     "output_type": "display_data"
    }
   ],
   "source": [
    "df_train['sqrt_target'] = np.sqrt(df_train['target'])\n",
    "\n",
    "plt.hist(df_train['sqrt_target'], bins=50, edgecolor='black', color='skyblue', rwidth=0.85)\n",
    "plt.gca().set_facecolor('lightgray')\n",
    "plt.style.use('seaborn')\n",
    "plt.grid(True, linestyle='--', alpha=0.2, color='gray')\n",
    "plt.title(' ', fontsize=16)\n",
    "plt.xlabel('Sqrt Target', fontsize=12)\n",
    "plt.ylabel('Frequency', fontsize=12)\n",
    "#plt.savefig('figures/price_psqft_dist.png') \n",
    "plt.show()"
   ]
  },
  {
   "cell_type": "code",
   "execution_count": 33,
   "metadata": {},
   "outputs": [
    {
     "data": {
      "text/plain": [
       "array([ 38. ,  39. ,  24. ,  49. ,  21. ,  28. ,  18. ,  31. ,  25. ,\n",
       "        29. ,  23. ,  40. ,  52. ,  60. ,  46. ,  53. ,  54. ,  34. ,\n",
       "        45. ,  27. ,  15. ,  41. ,  42. ,  47. ,  22. ,  13. ,  50. ,\n",
       "        57. ,  51. ,  16. ,  48. ,  44. ,  30. ,  36. ,  59. ,  32. ,\n",
       "        20. ,  33. ,  43. ,  19. ,  58. ,  61. ,  72. ,  80. ,  17. ,\n",
       "        55. ,  65. ,  70. ,  76. ,  73. , 117. , 128. , 119. , 101. ,\n",
       "       115. ,  67. , 124. ,  75. , 131. , 157. , 138. , 161. , 152. ,\n",
       "        66. ,  62. ,  83. ,  96. ,  81. ,  90. ,  95. ,  84. ,  78. ,\n",
       "       130. ,  56. ,  93. ,  89. , 139. , 126. , 114. ,  88. , 112. ,\n",
       "        91. ,  68. , 107. ,  98. ,  77. , 123. , 120. ,  82. ,  64. ,\n",
       "        92. ,   8. ,  11. ,  10. ,  12. ,  37. ,  14. ,   9. ,  26. ,\n",
       "         7. ,  87. ,  85. , 104. , 129. , 142. , 151. , 137. , 127. ,\n",
       "        74. ,  97. , 149. , 109. ,  63. , 147. , 134. , 159. , 162. ,\n",
       "        69. ,   5. ,   3. ,   2. ,  71. , 102. , 122. ,  99. , 132. ,\n",
       "       158. , 164. , 168. , 155. , 153. , 144. , 163. , 154. , 160. ,\n",
       "       100. , 185. , 167. , 166. , 180. , 181. , 174. , 169. , 150. ,\n",
       "       172. , 190. , 186. , 183. ,  79. ,  94. , 103. , 105. , 156. ,\n",
       "       143. ,  86. , 118. , 135. ,  35. , 177. , 188. , 182. , 207. ,\n",
       "       212. , 187. , 193. , 165. , 116. ,   1. , 121. , 111. , 106. ,\n",
       "         6. , 108. , 198. , 216. , 199. , 293. , 306. , 277. , 225. ,\n",
       "       241. , 294. , 300. , 171. , 200. , 223. , 184. , 145. , 141. ,\n",
       "       133. , 170. , 140. , 148. , 113. , 815. , 175. , 191. , 176. ,\n",
       "         4. , 173. , 189. , 203. , 215. , 218. , 219. , 243. , 178. ,\n",
       "       236. , 196. , 313. , 299. , 261. , 282. , 266. , 264. , 251. ,\n",
       "       326. , 230. , 208. , 227. , 192. , 110. , 194. , 209. , 271. ,\n",
       "       179. , 197. , 211. , 239. , 204. , 220. , 146. , 125. , 136. ,\n",
       "       470. , 689. , 240. , 221. , 278. , 288. , 286. , 285. , 362. ,\n",
       "       195. , 281. , 214. , 267. , 226. , 270. , 213. , 232. , 205. ,\n",
       "       257. ,  14.2,  17.1,  14.1,  22.9,  21.8,  20.3,  14.9,  14.5,\n",
       "        14.3,  15.9,  25.6,  20.2,  20.5,  18.8,  16.8,  14.8,  13.7,\n",
       "        16.6,  11.6,  11.4,  12.4,  18.9,  15.4,  13.2,  16.9,  13.6,\n",
       "        19.8,  20.7,  12.8,  12.1,  16.2,  17.2,  17.5,  12.7,  15.1,\n",
       "        14.7,  12.3,  11.5,  13.8,  13.1,  21.2,  17.9,  16.1,  12.2,\n",
       "        12.9,  15.7,  19.9,  12.5,  11.7,  12.6,  17.6,  11.9,  19.4,\n",
       "       238. , 378. , 311. , 400. , 229. , 349. , 340. , 334. , 262. ,\n",
       "       244. , 260. , 250. , 268. , 217. , 224. , 252. , 206. , 317. ,\n",
       "       327. , 231. , 242. , 322. , 245. , 202. , 246. , 248. , 255. ,\n",
       "       303. , 210. , 201. , 253. , 309. , 254. , 222. , 233. ,  27.4,\n",
       "         9.6,  15.2,  37.2,   9.5,  35.3,  44.6,  51.4,  21.4,   9.4,\n",
       "         9.3,  27.8,  18.2, 265. , 287. , 234. , 315. , 304. , 343. ,\n",
       "       237. , 247. , 263. , 284. , 382. , 310. , 316. , 410. , 465. ,\n",
       "       397. , 228. , 320. , 319. , 292. , 371. ])"
      ]
     },
     "execution_count": 33,
     "metadata": {},
     "output_type": "execute_result"
    }
   ],
   "source": [
    "#sns.histplot(x='target_max', y='target_min', data=df_train ,hue='target')\n",
    "df_train['target'].unique()"
   ]
  },
  {
   "cell_type": "code",
   "execution_count": 34,
   "metadata": {},
   "outputs": [
    {
     "name": "stderr",
     "output_type": "stream",
     "text": [
      "/var/folders/0v/n3w11jxs0zxdx0ty34xv_fx40000gn/T/ipykernel_30096/3242716794.py:3: MatplotlibDeprecationWarning: The seaborn styles shipped by Matplotlib are deprecated since 3.6, as they no longer correspond to the styles shipped by seaborn. However, they will remain available as 'seaborn-v0_8-<style>'. Alternatively, directly use the seaborn API instead.\n",
      "  plt.style.use('seaborn')\n"
     ]
    },
    {
     "data": {
      "image/png": "[encoded data removed]",
      "text/plain": [
       "<Figure size 800x550 with 1 Axes>"
      ]
     },
     "metadata": {},
     "output_type": "display_data"
    }
   ],
   "source": [
    "plt.boxplot(df_train['log_target'])\n",
    "plt.gca().set_facecolor('lightgray')\n",
    "plt.style.use('seaborn')\n",
    "plt.grid(True, linestyle='--', alpha=0.2, color='gray')\n",
    "\n",
    "plt.show()"
   ]
  },
  {
   "cell_type": "markdown",
   "metadata": {},
   "source": [
    "# Checking for the null values and filling in the missing"
   ]
  },
  {
   "cell_type": "code",
   "execution_count": 35,
   "metadata": {},
   "outputs": [
    {
     "name": "stdout",
     "output_type": "stream",
     "text": [
      "              index  Null Percentage\n",
      "0   place_id x date              0.0\n",
      "1              date              0.0\n",
      "2          place_id              0.0\n",
      "3            target              0.0\n",
      "4        target_min              0.0\n",
      "..              ...              ...\n",
      "84              day              0.0\n",
      "85       log_target              0.0\n",
      "86   log_target_min              0.0\n",
      "87   log_target_max              0.0\n",
      "88      sqrt_target              0.0\n",
      "\n",
      "[89 rows x 2 columns]\n"
     ]
    }
   ],
   "source": [
    "#Null values percentages in columns \n",
    "\n",
    "null_count = df_train.isnull().sum()\n",
    "total_rows = len(df_train)\n",
    "null_percentage = (null_count / total_rows) * 100\n",
    "null_info_df = pd.DataFrame({'Null Percentage': null_percentage})\n",
    "null_info_df.reset_index(inplace=True)\n",
    "print(null_info_df)"
   ]
  },
  {
   "cell_type": "code",
   "execution_count": 12,
   "metadata": {},
   "outputs": [],
   "source": [
    "df_drop_train = df_train.drop(['place_id x date'], axis=1)\n",
    "\n",
    "df_drop_test = df_test.drop(['place_id x date'], axis=1)"
   ]
  },
  {
   "cell_type": "code",
   "execution_count": 13,
   "metadata": {},
   "outputs": [
    {
     "name": "stdout",
     "output_type": "stream",
     "text": [
      "['l3_no2_no2_column_number_density', 'l3_no2_no2_slant_column_number_density', 'l3_no2_absorbing_aerosol_index', 'l3_no2_cloud_fraction', 'l3_no2_sensor_altitude', 'l3_no2_sensor_azimuth_angle', 'l3_no2_sensor_zenith_angle', 'l3_no2_solar_azimuth_angle', 'l3_no2_solar_zenith_angle', 'l3_no2_stratospheric_no2_column_number_density', 'l3_no2_tropopause_pressure', 'l3_no2_tropospheric_no2_column_number_density', 'l3_o3_o3_column_number_density', 'l3_o3_o3_effective_temperature', 'l3_o3_cloud_fraction', 'l3_o3_sensor_azimuth_angle', 'l3_o3_sensor_zenith_angle', 'l3_o3_solar_azimuth_angle', 'l3_o3_solar_zenith_angle', 'l3_co_co_column_number_density', 'l3_co_h2o_column_number_density', 'l3_co_cloud_height', 'l3_co_sensor_altitude', 'l3_co_sensor_azimuth_angle', 'l3_co_sensor_zenith_angle', 'l3_co_solar_azimuth_angle', 'l3_co_solar_zenith_angle', 'l3_hcho_hcho_slant_column_number_density', 'l3_hcho_cloud_fraction', 'l3_hcho_sensor_azimuth_angle', 'l3_hcho_sensor_zenith_angle', 'l3_hcho_solar_azimuth_angle', 'l3_hcho_solar_zenith_angle', 'l3_hcho_tropospheric_hcho_column_number_density', 'l3_hcho_tropospheric_hcho_column_number_density_amf', 'l3_cloud_cloud_base_height', 'l3_cloud_cloud_base_pressure', 'l3_cloud_cloud_fraction', 'l3_cloud_cloud_optical_depth', 'l3_cloud_cloud_top_height', 'l3_cloud_cloud_top_pressure', 'l3_cloud_sensor_azimuth_angle', 'l3_cloud_sensor_zenith_angle', 'l3_cloud_solar_azimuth_angle', 'l3_cloud_solar_zenith_angle', 'l3_cloud_surface_albedo', 'l3_aer_ai_absorbing_aerosol_index', 'l3_aer_ai_sensor_altitude', 'l3_aer_ai_sensor_azimuth_angle', 'l3_aer_ai_sensor_zenith_angle', 'l3_aer_ai_solar_azimuth_angle', 'l3_aer_ai_solar_zenith_angle', 'l3_so2_so2_column_number_density', 'l3_so2_so2_column_number_density_amf', 'l3_so2_so2_slant_column_number_density', 'l3_so2_absorbing_aerosol_index', 'l3_so2_cloud_fraction', 'l3_so2_sensor_azimuth_angle', 'l3_so2_sensor_zenith_angle', 'l3_so2_solar_azimuth_angle', 'l3_so2_solar_zenith_angle', 'l3_ch4_ch4_column_volume_mixing_ratio_dry_air', 'l3_ch4_aerosol_height', 'l3_ch4_aerosol_optical_depth', 'l3_ch4_sensor_azimuth_angle', 'l3_ch4_sensor_zenith_angle', 'l3_ch4_solar_azimuth_angle', 'l3_ch4_solar_zenith_angle']\n"
     ]
    }
   ],
   "source": [
    "# Get the features list with null values \n",
    "columns_with_nan_train = df_train.columns[df_train.isnull().any()].tolist()\n",
    "\n",
    "print(columns_with_nan_train)"
   ]
  },
  {
   "cell_type": "code",
   "execution_count": 14,
   "metadata": {},
   "outputs": [],
   "source": [
    "# Inputing with place_id and month average\n",
    "\n",
    "averages = df_drop_train.groupby(['place_id', 'month']).mean()\n",
    "\n",
    "# Iterate over the columns with missing values\n",
    "for col in columns_with_nan_train:\n",
    "    # Fill missing values with the calculated averages\n",
    "    df_drop_train[col] = df_drop_train.apply(lambda row: averages.loc[(row['place_id'], row['month']), col] if pd.isna(row[col]) else row[col], axis=1)"
   ]
  },
  {
   "cell_type": "code",
   "execution_count": 26,
   "metadata": {},
   "outputs": [
    {
     "name": "stdout",
     "output_type": "stream",
     "text": [
      "                                                index  Null Percentage\n",
      "0                                                date         0.000000\n",
      "1                                            place_id         0.000000\n",
      "2                                              target         0.000000\n",
      "3                                          target_min         0.000000\n",
      "4                                          target_max         0.000000\n",
      "5                                     target_variance         0.000000\n",
      "6                                        target_count         0.000000\n",
      "7                precipitable_water_entire_atmosphere         0.000000\n",
      "8                   relative_humidity_2m_above_ground         0.000000\n",
      "9                   specific_humidity_2m_above_ground         0.000000\n",
      "10                        temperature_2m_above_ground         0.000000\n",
      "11               u_component_of_wind_10m_above_ground         0.000000\n",
      "12               v_component_of_wind_10m_above_ground         0.000000\n",
      "13                   l3_no2_no2_column_number_density         0.098177\n",
      "14             l3_no2_no2_slant_column_number_density         0.098177\n",
      "15                     l3_no2_absorbing_aerosol_index         0.098177\n",
      "16                              l3_no2_cloud_fraction         0.098177\n",
      "17                             l3_no2_sensor_altitude         0.098177\n",
      "18                        l3_no2_sensor_azimuth_angle         0.098177\n",
      "19                         l3_no2_sensor_zenith_angle         0.098177\n",
      "20                         l3_no2_solar_azimuth_angle         0.098177\n",
      "21                          l3_no2_solar_zenith_angle         0.098177\n",
      "22     l3_no2_stratospheric_no2_column_number_density         0.098177\n",
      "23                         l3_no2_tropopause_pressure         0.098177\n",
      "24      l3_no2_tropospheric_no2_column_number_density         0.098177\n",
      "25                     l3_o3_o3_column_number_density         0.196354\n",
      "26                     l3_o3_o3_effective_temperature         0.196354\n",
      "27                               l3_o3_cloud_fraction         0.196354\n",
      "28                         l3_o3_sensor_azimuth_angle         0.196354\n",
      "29                          l3_o3_sensor_zenith_angle         0.196354\n",
      "30                          l3_o3_solar_azimuth_angle         0.196354\n",
      "31                           l3_o3_solar_zenith_angle         0.196354\n",
      "32                     l3_co_co_column_number_density         0.196354\n",
      "33                    l3_co_h2o_column_number_density         0.196354\n",
      "34                                 l3_co_cloud_height         0.196354\n",
      "35                              l3_co_sensor_altitude         0.196354\n",
      "36                         l3_co_sensor_azimuth_angle         0.196354\n",
      "37                          l3_co_sensor_zenith_angle         0.196354\n",
      "38                          l3_co_solar_azimuth_angle         0.196354\n",
      "39                           l3_co_solar_zenith_angle         0.196354\n",
      "40           l3_hcho_hcho_slant_column_number_density         0.196354\n",
      "41                             l3_hcho_cloud_fraction         0.196354\n",
      "42                       l3_hcho_sensor_azimuth_angle         0.196354\n",
      "43                        l3_hcho_sensor_zenith_angle         0.196354\n",
      "44                        l3_hcho_solar_azimuth_angle         0.196354\n",
      "45                         l3_hcho_solar_zenith_angle         0.196354\n",
      "46    l3_hcho_tropospheric_hcho_column_number_density         0.196354\n",
      "47  l3_hcho_tropospheric_hcho_column_number_densit...         0.196354\n",
      "48                         l3_cloud_cloud_base_height         0.215990\n",
      "49                       l3_cloud_cloud_base_pressure         0.215990\n",
      "50                            l3_cloud_cloud_fraction         0.196354\n",
      "51                       l3_cloud_cloud_optical_depth         0.215990\n",
      "52                          l3_cloud_cloud_top_height         0.215990\n",
      "53                        l3_cloud_cloud_top_pressure         0.215990\n",
      "54                      l3_cloud_sensor_azimuth_angle         0.196354\n",
      "55                       l3_cloud_sensor_zenith_angle         0.196354\n",
      "56                       l3_cloud_solar_azimuth_angle         0.196354\n",
      "57                        l3_cloud_solar_zenith_angle         0.196354\n",
      "58                            l3_cloud_surface_albedo         0.215990\n",
      "59                  l3_aer_ai_absorbing_aerosol_index         0.000000\n",
      "60                          l3_aer_ai_sensor_altitude         0.000000\n",
      "61                     l3_aer_ai_sensor_azimuth_angle         0.000000\n",
      "62                      l3_aer_ai_sensor_zenith_angle         0.000000\n",
      "63                      l3_aer_ai_solar_azimuth_angle         0.000000\n",
      "64                       l3_aer_ai_solar_zenith_angle         0.000000\n",
      "65                   l3_so2_so2_column_number_density         0.222535\n",
      "66               l3_so2_so2_column_number_density_amf         0.222535\n",
      "67             l3_so2_so2_slant_column_number_density         0.222535\n",
      "68                     l3_so2_absorbing_aerosol_index         0.222535\n",
      "69                              l3_so2_cloud_fraction         0.222535\n",
      "70                        l3_so2_sensor_azimuth_angle         0.222535\n",
      "71                         l3_so2_sensor_zenith_angle         0.222535\n",
      "72                         l3_so2_solar_azimuth_angle         0.222535\n",
      "73                          l3_so2_solar_zenith_angle         0.222535\n",
      "74      l3_ch4_ch4_column_volume_mixing_ratio_dry_air        19.429263\n",
      "75                              l3_ch4_aerosol_height        19.429263\n",
      "76                       l3_ch4_aerosol_optical_depth        19.429263\n",
      "77                        l3_ch4_sensor_azimuth_angle        19.429263\n",
      "78                         l3_ch4_sensor_zenith_angle        19.429263\n",
      "79                         l3_ch4_solar_azimuth_angle        19.429263\n",
      "80                          l3_ch4_solar_zenith_angle        19.429263\n",
      "81                                               year         0.000000\n",
      "82                                              month         0.000000\n",
      "83                                                day         0.000000\n",
      "84                                         log_target         0.000000\n",
      "85                                     log_target_min         0.000000\n",
      "86                                     log_target_max         0.000000\n",
      "87                                        sqrt_target         0.000000\n"
     ]
    }
   ],
   "source": [
    "#Null values percentages in columns after inputing with place_id and month average\n",
    "\n",
    "null_count = df_drop_train.isnull().sum()\n",
    "total_rows = len(df_drop_train)\n",
    "null_percentage = (null_count / total_rows) * 100\n",
    "null_info_df = pd.DataFrame({'Null Percentage': null_percentage})\n",
    "null_info_df.reset_index(inplace=True)\n",
    "print(null_info_df)"
   ]
  },
  {
   "cell_type": "code",
   "execution_count": 15,
   "metadata": {},
   "outputs": [
    {
     "name": "stdout",
     "output_type": "stream",
     "text": [
      "['l3_no2_no2_column_number_density', 'l3_no2_no2_slant_column_number_density', 'l3_no2_absorbing_aerosol_index', 'l3_no2_cloud_fraction', 'l3_no2_sensor_altitude', 'l3_no2_sensor_azimuth_angle', 'l3_no2_sensor_zenith_angle', 'l3_no2_solar_azimuth_angle', 'l3_no2_solar_zenith_angle', 'l3_no2_stratospheric_no2_column_number_density', 'l3_no2_tropopause_pressure', 'l3_no2_tropospheric_no2_column_number_density', 'l3_o3_o3_column_number_density', 'l3_o3_o3_effective_temperature', 'l3_o3_cloud_fraction', 'l3_o3_sensor_azimuth_angle', 'l3_o3_sensor_zenith_angle', 'l3_o3_solar_azimuth_angle', 'l3_o3_solar_zenith_angle', 'l3_co_co_column_number_density', 'l3_co_h2o_column_number_density', 'l3_co_cloud_height', 'l3_co_sensor_altitude', 'l3_co_sensor_azimuth_angle', 'l3_co_sensor_zenith_angle', 'l3_co_solar_azimuth_angle', 'l3_co_solar_zenith_angle', 'l3_hcho_hcho_slant_column_number_density', 'l3_hcho_cloud_fraction', 'l3_hcho_sensor_azimuth_angle', 'l3_hcho_sensor_zenith_angle', 'l3_hcho_solar_azimuth_angle', 'l3_hcho_solar_zenith_angle', 'l3_hcho_tropospheric_hcho_column_number_density', 'l3_hcho_tropospheric_hcho_column_number_density_amf', 'l3_cloud_cloud_base_height', 'l3_cloud_cloud_base_pressure', 'l3_cloud_cloud_fraction', 'l3_cloud_cloud_optical_depth', 'l3_cloud_cloud_top_height', 'l3_cloud_cloud_top_pressure', 'l3_cloud_sensor_azimuth_angle', 'l3_cloud_sensor_zenith_angle', 'l3_cloud_solar_azimuth_angle', 'l3_cloud_solar_zenith_angle', 'l3_cloud_surface_albedo', 'l3_so2_so2_column_number_density', 'l3_so2_so2_column_number_density_amf', 'l3_so2_so2_slant_column_number_density', 'l3_so2_absorbing_aerosol_index', 'l3_so2_cloud_fraction', 'l3_so2_sensor_azimuth_angle', 'l3_so2_sensor_zenith_angle', 'l3_so2_solar_azimuth_angle', 'l3_so2_solar_zenith_angle', 'l3_ch4_ch4_column_volume_mixing_ratio_dry_air', 'l3_ch4_aerosol_height', 'l3_ch4_aerosol_optical_depth', 'l3_ch4_sensor_azimuth_angle', 'l3_ch4_sensor_zenith_angle', 'l3_ch4_solar_azimuth_angle', 'l3_ch4_solar_zenith_angle']\n"
     ]
    }
   ],
   "source": [
    "# Get the features list with null values \n",
    "\n",
    "columns_with_nan_train_2 = df_drop_train.columns[df_drop_train.isnull().any()].tolist()\n",
    "\n",
    "print(columns_with_nan_train_2)"
   ]
  },
  {
   "cell_type": "code",
   "execution_count": 16,
   "metadata": {},
   "outputs": [],
   "source": [
    "# Inputing with place_id average\n",
    "averages = df_drop_train.groupby(['place_id']).mean()\n",
    "\n",
    "# Iterate over the columns with missing values\n",
    "for col in columns_with_nan_train_2:\n",
    "    # Fill missing values with the calculated averages\n",
    "    df_drop_train[col] = df_drop_train.apply(lambda row: averages.loc[(row['place_id']), col] if pd.isna(row[col]) else row[col], axis=1)"
   ]
  },
  {
   "cell_type": "code",
   "execution_count": 29,
   "metadata": {},
   "outputs": [
    {
     "name": "stdout",
     "output_type": "stream",
     "text": [
      "                                                index  Null Percentage\n",
      "0                                                date         0.000000\n",
      "1                                            place_id         0.000000\n",
      "2                                              target         0.000000\n",
      "3                                          target_min         0.000000\n",
      "4                                          target_max         0.000000\n",
      "5                                     target_variance         0.000000\n",
      "6                                        target_count         0.000000\n",
      "7                precipitable_water_entire_atmosphere         0.000000\n",
      "8                   relative_humidity_2m_above_ground         0.000000\n",
      "9                   specific_humidity_2m_above_ground         0.000000\n",
      "10                        temperature_2m_above_ground         0.000000\n",
      "11               u_component_of_wind_10m_above_ground         0.000000\n",
      "12               v_component_of_wind_10m_above_ground         0.000000\n",
      "13                   l3_no2_no2_column_number_density         0.000000\n",
      "14             l3_no2_no2_slant_column_number_density         0.000000\n",
      "15                     l3_no2_absorbing_aerosol_index         0.000000\n",
      "16                              l3_no2_cloud_fraction         0.000000\n",
      "17                             l3_no2_sensor_altitude         0.000000\n",
      "18                        l3_no2_sensor_azimuth_angle         0.000000\n",
      "19                         l3_no2_sensor_zenith_angle         0.000000\n",
      "20                         l3_no2_solar_azimuth_angle         0.000000\n",
      "21                          l3_no2_solar_zenith_angle         0.000000\n",
      "22     l3_no2_stratospheric_no2_column_number_density         0.000000\n",
      "23                         l3_no2_tropopause_pressure         0.000000\n",
      "24      l3_no2_tropospheric_no2_column_number_density         0.000000\n",
      "25                     l3_o3_o3_column_number_density         0.000000\n",
      "26                     l3_o3_o3_effective_temperature         0.000000\n",
      "27                               l3_o3_cloud_fraction         0.000000\n",
      "28                         l3_o3_sensor_azimuth_angle         0.000000\n",
      "29                          l3_o3_sensor_zenith_angle         0.000000\n",
      "30                          l3_o3_solar_azimuth_angle         0.000000\n",
      "31                           l3_o3_solar_zenith_angle         0.000000\n",
      "32                     l3_co_co_column_number_density         0.000000\n",
      "33                    l3_co_h2o_column_number_density         0.000000\n",
      "34                                 l3_co_cloud_height         0.000000\n",
      "35                              l3_co_sensor_altitude         0.000000\n",
      "36                         l3_co_sensor_azimuth_angle         0.000000\n",
      "37                          l3_co_sensor_zenith_angle         0.000000\n",
      "38                          l3_co_solar_azimuth_angle         0.000000\n",
      "39                           l3_co_solar_zenith_angle         0.000000\n",
      "40           l3_hcho_hcho_slant_column_number_density         0.000000\n",
      "41                             l3_hcho_cloud_fraction         0.000000\n",
      "42                       l3_hcho_sensor_azimuth_angle         0.000000\n",
      "43                        l3_hcho_sensor_zenith_angle         0.000000\n",
      "44                        l3_hcho_solar_azimuth_angle         0.000000\n",
      "45                         l3_hcho_solar_zenith_angle         0.000000\n",
      "46    l3_hcho_tropospheric_hcho_column_number_density         0.000000\n",
      "47  l3_hcho_tropospheric_hcho_column_number_densit...         0.000000\n",
      "48                         l3_cloud_cloud_base_height         0.000000\n",
      "49                       l3_cloud_cloud_base_pressure         0.000000\n",
      "50                            l3_cloud_cloud_fraction         0.000000\n",
      "51                       l3_cloud_cloud_optical_depth         0.000000\n",
      "52                          l3_cloud_cloud_top_height         0.000000\n",
      "53                        l3_cloud_cloud_top_pressure         0.000000\n",
      "54                      l3_cloud_sensor_azimuth_angle         0.000000\n",
      "55                       l3_cloud_sensor_zenith_angle         0.000000\n",
      "56                       l3_cloud_solar_azimuth_angle         0.000000\n",
      "57                        l3_cloud_solar_zenith_angle         0.000000\n",
      "58                            l3_cloud_surface_albedo         0.000000\n",
      "59                  l3_aer_ai_absorbing_aerosol_index         0.000000\n",
      "60                          l3_aer_ai_sensor_altitude         0.000000\n",
      "61                     l3_aer_ai_sensor_azimuth_angle         0.000000\n",
      "62                      l3_aer_ai_sensor_zenith_angle         0.000000\n",
      "63                      l3_aer_ai_solar_azimuth_angle         0.000000\n",
      "64                       l3_aer_ai_solar_zenith_angle         0.000000\n",
      "65                   l3_so2_so2_column_number_density         0.009818\n",
      "66               l3_so2_so2_column_number_density_amf         0.009818\n",
      "67             l3_so2_so2_slant_column_number_density         0.009818\n",
      "68                     l3_so2_absorbing_aerosol_index         0.009818\n",
      "69                              l3_so2_cloud_fraction         0.009818\n",
      "70                        l3_so2_sensor_azimuth_angle         0.009818\n",
      "71                         l3_so2_sensor_zenith_angle         0.009818\n",
      "72                         l3_so2_solar_azimuth_angle         0.009818\n",
      "73                          l3_so2_solar_zenith_angle         0.009818\n",
      "74      l3_ch4_ch4_column_volume_mixing_ratio_dry_air         0.009818\n",
      "75                              l3_ch4_aerosol_height         0.009818\n",
      "76                       l3_ch4_aerosol_optical_depth         0.009818\n",
      "77                        l3_ch4_sensor_azimuth_angle         0.009818\n",
      "78                         l3_ch4_sensor_zenith_angle         0.009818\n",
      "79                         l3_ch4_solar_azimuth_angle         0.009818\n",
      "80                          l3_ch4_solar_zenith_angle         0.009818\n",
      "81                                               year         0.000000\n",
      "82                                              month         0.000000\n",
      "83                                                day         0.000000\n",
      "84                                         log_target         0.000000\n",
      "85                                     log_target_min         0.000000\n",
      "86                                     log_target_max         0.000000\n",
      "87                                        sqrt_target         0.000000\n"
     ]
    }
   ],
   "source": [
    "#Null values percentages in columns after inputing with place_id average\n",
    "null_count = df_drop_train.isnull().sum()\n",
    "total_rows = len(df_drop_train)\n",
    "null_percentage = (null_count / total_rows) * 100\n",
    "null_info_df = pd.DataFrame({'Null Percentage': null_percentage})\n",
    "null_info_df.reset_index(inplace=True)\n",
    "print(null_info_df)"
   ]
  },
  {
   "cell_type": "code",
   "execution_count": 17,
   "metadata": {},
   "outputs": [],
   "source": [
    "# Remain null data was 0.0091% thats dropped (3 rows)\n",
    "df_drop_train = df_drop_train.dropna()"
   ]
  },
  {
   "cell_type": "code",
   "execution_count": 18,
   "metadata": {},
   "outputs": [
    {
     "name": "stdout",
     "output_type": "stream",
     "text": [
      "             index  Null Percentage\n",
      "0             date              0.0\n",
      "1         place_id              0.0\n",
      "2           target              0.0\n",
      "3       target_min              0.0\n",
      "4       target_max              0.0\n",
      "..             ...              ...\n",
      "82           month              0.0\n",
      "83             day              0.0\n",
      "84      log_target              0.0\n",
      "85  log_target_min              0.0\n",
      "86  log_target_max              0.0\n",
      "\n",
      "[87 rows x 2 columns]\n"
     ]
    }
   ],
   "source": [
    "#Null values percentages in columns after inputing with place_id average\n",
    "null_count = df_drop_train.isnull().sum()\n",
    "total_rows = len(df_drop_train)\n",
    "null_percentage = (null_count / total_rows) * 100\n",
    "null_info_df = pd.DataFrame({'Null Percentage': null_percentage})\n",
    "null_info_df.reset_index(inplace=True)\n",
    "print(null_info_df)"
   ]
  },
  {
   "cell_type": "code",
   "execution_count": 19,
   "metadata": {},
   "outputs": [
    {
     "name": "stdout",
     "output_type": "stream",
     "text": [
      "['l3_no2_no2_column_number_density', 'l3_no2_no2_slant_column_number_density', 'l3_no2_absorbing_aerosol_index', 'l3_no2_cloud_fraction', 'l3_no2_sensor_altitude', 'l3_no2_sensor_azimuth_angle', 'l3_no2_sensor_zenith_angle', 'l3_no2_solar_azimuth_angle', 'l3_no2_solar_zenith_angle', 'l3_no2_stratospheric_no2_column_number_density', 'l3_no2_tropopause_pressure', 'l3_no2_tropospheric_no2_column_number_density', 'l3_o3_o3_column_number_density', 'l3_o3_o3_effective_temperature', 'l3_o3_cloud_fraction', 'l3_o3_sensor_azimuth_angle', 'l3_o3_sensor_zenith_angle', 'l3_o3_solar_azimuth_angle', 'l3_o3_solar_zenith_angle', 'l3_co_co_column_number_density', 'l3_co_h2o_column_number_density', 'l3_co_cloud_height', 'l3_co_sensor_altitude', 'l3_co_sensor_azimuth_angle', 'l3_co_sensor_zenith_angle', 'l3_co_solar_azimuth_angle', 'l3_co_solar_zenith_angle', 'l3_hcho_hcho_slant_column_number_density', 'l3_hcho_cloud_fraction', 'l3_hcho_sensor_azimuth_angle', 'l3_hcho_sensor_zenith_angle', 'l3_hcho_solar_azimuth_angle', 'l3_hcho_solar_zenith_angle', 'l3_hcho_tropospheric_hcho_column_number_density', 'l3_hcho_tropospheric_hcho_column_number_density_amf', 'l3_cloud_cloud_base_height', 'l3_cloud_cloud_base_pressure', 'l3_cloud_cloud_fraction', 'l3_cloud_cloud_optical_depth', 'l3_cloud_cloud_top_height', 'l3_cloud_cloud_top_pressure', 'l3_cloud_sensor_azimuth_angle', 'l3_cloud_sensor_zenith_angle', 'l3_cloud_solar_azimuth_angle', 'l3_cloud_solar_zenith_angle', 'l3_cloud_surface_albedo', 'l3_aer_ai_absorbing_aerosol_index', 'l3_aer_ai_sensor_altitude', 'l3_aer_ai_sensor_azimuth_angle', 'l3_aer_ai_sensor_zenith_angle', 'l3_aer_ai_solar_azimuth_angle', 'l3_aer_ai_solar_zenith_angle', 'l3_so2_so2_column_number_density', 'l3_so2_so2_column_number_density_amf', 'l3_so2_so2_slant_column_number_density', 'l3_so2_absorbing_aerosol_index', 'l3_so2_cloud_fraction', 'l3_so2_sensor_azimuth_angle', 'l3_so2_sensor_zenith_angle', 'l3_so2_solar_azimuth_angle', 'l3_so2_solar_zenith_angle', 'l3_ch4_ch4_column_volume_mixing_ratio_dry_air', 'l3_ch4_aerosol_height', 'l3_ch4_aerosol_optical_depth', 'l3_ch4_sensor_azimuth_angle', 'l3_ch4_sensor_zenith_angle', 'l3_ch4_solar_azimuth_angle', 'l3_ch4_solar_zenith_angle']\n"
     ]
    }
   ],
   "source": [
    "# Get the features list with null values \n",
    "\n",
    "columns_with_nan_test = df_test.columns[df_test.isnull().any()].tolist()\n",
    "\n",
    "print(columns_with_nan_test)\n"
   ]
  },
  {
   "cell_type": "code",
   "execution_count": 20,
   "metadata": {},
   "outputs": [],
   "source": [
    "# Inputing with place_id and month average\n",
    "\n",
    "averages = df_drop_test.groupby(['place_id', 'month']).mean()\n",
    "\n",
    "# Iterate over the columns with missing values\n",
    "for col in columns_with_nan_test:\n",
    "    # Fill missing values with the calculated averages\n",
    "    df_drop_test[col] = df_drop_test.apply(lambda row: averages.loc[(row['place_id'], row['month']), col] if pd.isna(row[col]) else row[col], axis=1)"
   ]
  },
  {
   "cell_type": "code",
   "execution_count": 34,
   "metadata": {},
   "outputs": [
    {
     "name": "stdout",
     "output_type": "stream",
     "text": [
      "                                                index  Null Percentage\n",
      "0                                                date         0.000000\n",
      "1                                            place_id         0.000000\n",
      "2                precipitable_water_entire_atmosphere         0.000000\n",
      "3                   relative_humidity_2m_above_ground         0.000000\n",
      "4                   specific_humidity_2m_above_ground         0.000000\n",
      "5                         temperature_2m_above_ground         0.000000\n",
      "6                u_component_of_wind_10m_above_ground         0.000000\n",
      "7                v_component_of_wind_10m_above_ground         0.000000\n",
      "8                    l3_no2_no2_column_number_density         0.185920\n",
      "9              l3_no2_no2_slant_column_number_density         0.185920\n",
      "10                     l3_no2_absorbing_aerosol_index         0.185920\n",
      "11                              l3_no2_cloud_fraction         0.185920\n",
      "12                             l3_no2_sensor_altitude         0.185920\n",
      "13                        l3_no2_sensor_azimuth_angle         0.185920\n",
      "14                         l3_no2_sensor_zenith_angle         0.185920\n",
      "15                         l3_no2_solar_azimuth_angle         0.185920\n",
      "16                          l3_no2_solar_zenith_angle         0.185920\n",
      "17     l3_no2_stratospheric_no2_column_number_density         0.185920\n",
      "18                         l3_no2_tropopause_pressure         0.185920\n",
      "19      l3_no2_tropospheric_no2_column_number_density         0.185920\n",
      "20                     l3_o3_o3_column_number_density         0.185920\n",
      "21                     l3_o3_o3_effective_temperature         0.185920\n",
      "22                               l3_o3_cloud_fraction         0.185920\n",
      "23                         l3_o3_sensor_azimuth_angle         0.185920\n",
      "24                          l3_o3_sensor_zenith_angle         0.185920\n",
      "25                          l3_o3_solar_azimuth_angle         0.185920\n",
      "26                           l3_o3_solar_zenith_angle         0.185920\n",
      "27                     l3_co_co_column_number_density         0.185920\n",
      "28                    l3_co_h2o_column_number_density         0.185920\n",
      "29                                 l3_co_cloud_height         0.185920\n",
      "30                              l3_co_sensor_altitude         0.185920\n",
      "31                         l3_co_sensor_azimuth_angle         0.185920\n",
      "32                          l3_co_sensor_zenith_angle         0.185920\n",
      "33                          l3_co_solar_azimuth_angle         0.185920\n",
      "34                           l3_co_solar_zenith_angle         0.185920\n",
      "35           l3_hcho_hcho_slant_column_number_density         0.378037\n",
      "36                             l3_hcho_cloud_fraction         0.378037\n",
      "37                       l3_hcho_sensor_azimuth_angle         0.378037\n",
      "38                        l3_hcho_sensor_zenith_angle         0.378037\n",
      "39                        l3_hcho_solar_azimuth_angle         0.378037\n",
      "40                         l3_hcho_solar_zenith_angle         0.378037\n",
      "41    l3_hcho_tropospheric_hcho_column_number_density         0.378037\n",
      "42  l3_hcho_tropospheric_hcho_column_number_densit...         0.378037\n",
      "43                         l3_cloud_cloud_base_height         0.235498\n",
      "44                       l3_cloud_cloud_base_pressure         0.235498\n",
      "45                            l3_cloud_cloud_fraction         0.185920\n",
      "46                       l3_cloud_cloud_optical_depth         0.235498\n",
      "47                          l3_cloud_cloud_top_height         0.235498\n",
      "48                        l3_cloud_cloud_top_pressure         0.235498\n",
      "49                      l3_cloud_sensor_azimuth_angle         0.185920\n",
      "50                       l3_cloud_sensor_zenith_angle         0.185920\n",
      "51                       l3_cloud_solar_azimuth_angle         0.185920\n",
      "52                        l3_cloud_solar_zenith_angle         0.185920\n",
      "53                            l3_cloud_surface_albedo         0.235498\n",
      "54                  l3_aer_ai_absorbing_aerosol_index         0.000000\n",
      "55                          l3_aer_ai_sensor_altitude         0.000000\n",
      "56                     l3_aer_ai_sensor_azimuth_angle         0.000000\n",
      "57                      l3_aer_ai_sensor_zenith_angle         0.000000\n",
      "58                      l3_aer_ai_solar_azimuth_angle         0.000000\n",
      "59                       l3_aer_ai_solar_zenith_angle         0.000000\n",
      "60                   l3_so2_so2_column_number_density         0.402826\n",
      "61               l3_so2_so2_column_number_density_amf         0.402826\n",
      "62             l3_so2_so2_slant_column_number_density         0.402826\n",
      "63                     l3_so2_absorbing_aerosol_index         0.402826\n",
      "64                              l3_so2_cloud_fraction         0.402826\n",
      "65                        l3_so2_sensor_azimuth_angle         0.402826\n",
      "66                         l3_so2_sensor_zenith_angle         0.402826\n",
      "67                         l3_so2_solar_azimuth_angle         0.402826\n",
      "68                          l3_so2_solar_zenith_angle         0.402826\n",
      "69      l3_ch4_ch4_column_volume_mixing_ratio_dry_air        16.955875\n",
      "70                              l3_ch4_aerosol_height        16.955875\n",
      "71                       l3_ch4_aerosol_optical_depth        16.955875\n",
      "72                        l3_ch4_sensor_azimuth_angle        16.955875\n",
      "73                         l3_ch4_sensor_zenith_angle        16.955875\n",
      "74                         l3_ch4_solar_azimuth_angle        16.955875\n",
      "75                          l3_ch4_solar_zenith_angle        16.955875\n",
      "76                                               year         0.000000\n",
      "77                                              month         0.000000\n",
      "78                                                day         0.000000\n"
     ]
    }
   ],
   "source": [
    "#Null values percentages in columns after inputing with place_id and month average\n",
    "null_count = df_drop_test.isnull().sum()\n",
    "total_rows = len(df_drop_test)\n",
    "null_percentage = (null_count / total_rows) * 100\n",
    "null_info_df = pd.DataFrame({'Null Percentage': null_percentage})\n",
    "null_info_df.reset_index(inplace=True)\n",
    "print(null_info_df)"
   ]
  },
  {
   "cell_type": "code",
   "execution_count": 21,
   "metadata": {},
   "outputs": [
    {
     "name": "stdout",
     "output_type": "stream",
     "text": [
      "['l3_no2_no2_column_number_density', 'l3_no2_no2_slant_column_number_density', 'l3_no2_absorbing_aerosol_index', 'l3_no2_cloud_fraction', 'l3_no2_sensor_altitude', 'l3_no2_sensor_azimuth_angle', 'l3_no2_sensor_zenith_angle', 'l3_no2_solar_azimuth_angle', 'l3_no2_solar_zenith_angle', 'l3_no2_stratospheric_no2_column_number_density', 'l3_no2_tropopause_pressure', 'l3_no2_tropospheric_no2_column_number_density', 'l3_o3_o3_column_number_density', 'l3_o3_o3_effective_temperature', 'l3_o3_cloud_fraction', 'l3_o3_sensor_azimuth_angle', 'l3_o3_sensor_zenith_angle', 'l3_o3_solar_azimuth_angle', 'l3_o3_solar_zenith_angle', 'l3_co_co_column_number_density', 'l3_co_h2o_column_number_density', 'l3_co_cloud_height', 'l3_co_sensor_altitude', 'l3_co_sensor_azimuth_angle', 'l3_co_sensor_zenith_angle', 'l3_co_solar_azimuth_angle', 'l3_co_solar_zenith_angle', 'l3_hcho_hcho_slant_column_number_density', 'l3_hcho_cloud_fraction', 'l3_hcho_sensor_azimuth_angle', 'l3_hcho_sensor_zenith_angle', 'l3_hcho_solar_azimuth_angle', 'l3_hcho_solar_zenith_angle', 'l3_hcho_tropospheric_hcho_column_number_density', 'l3_hcho_tropospheric_hcho_column_number_density_amf', 'l3_cloud_cloud_base_height', 'l3_cloud_cloud_base_pressure', 'l3_cloud_cloud_fraction', 'l3_cloud_cloud_optical_depth', 'l3_cloud_cloud_top_height', 'l3_cloud_cloud_top_pressure', 'l3_cloud_sensor_azimuth_angle', 'l3_cloud_sensor_zenith_angle', 'l3_cloud_solar_azimuth_angle', 'l3_cloud_solar_zenith_angle', 'l3_cloud_surface_albedo', 'l3_aer_ai_absorbing_aerosol_index', 'l3_aer_ai_sensor_altitude', 'l3_aer_ai_sensor_azimuth_angle', 'l3_aer_ai_sensor_zenith_angle', 'l3_aer_ai_solar_azimuth_angle', 'l3_aer_ai_solar_zenith_angle', 'l3_so2_so2_column_number_density', 'l3_so2_so2_column_number_density_amf', 'l3_so2_so2_slant_column_number_density', 'l3_so2_absorbing_aerosol_index', 'l3_so2_cloud_fraction', 'l3_so2_sensor_azimuth_angle', 'l3_so2_sensor_zenith_angle', 'l3_so2_solar_azimuth_angle', 'l3_so2_solar_zenith_angle', 'l3_ch4_ch4_column_volume_mixing_ratio_dry_air', 'l3_ch4_aerosol_height', 'l3_ch4_aerosol_optical_depth', 'l3_ch4_sensor_azimuth_angle', 'l3_ch4_sensor_zenith_angle', 'l3_ch4_solar_azimuth_angle', 'l3_ch4_solar_zenith_angle']\n"
     ]
    }
   ],
   "source": [
    "# Get the features list with null values \n",
    "columns_with_nan_test_2 = df_test.columns[df_test.isnull().any()].tolist()\n",
    "\n",
    "print(columns_with_nan_test_2)"
   ]
  },
  {
   "cell_type": "code",
   "execution_count": 22,
   "metadata": {},
   "outputs": [],
   "source": [
    "# Inputing with place_id average\n",
    "\n",
    "averages = df_drop_test.groupby(['place_id']).mean()\n",
    "\n",
    "# Iterate over the columns with missing values\n",
    "for col in columns_with_nan_test_2:\n",
    "    # Fill missing values with the calculated averages\n",
    "    df_drop_test[col] = df_drop_test.apply(lambda row: averages.loc[(row['place_id']), col] if pd.isna(row[col]) else row[col], axis=1)"
   ]
  },
  {
   "cell_type": "code",
   "execution_count": 37,
   "metadata": {},
   "outputs": [
    {
     "name": "stdout",
     "output_type": "stream",
     "text": [
      "                                                index  Null Percentage\n",
      "0                                                date              0.0\n",
      "1                                            place_id              0.0\n",
      "2                precipitable_water_entire_atmosphere              0.0\n",
      "3                   relative_humidity_2m_above_ground              0.0\n",
      "4                   specific_humidity_2m_above_ground              0.0\n",
      "5                         temperature_2m_above_ground              0.0\n",
      "6                u_component_of_wind_10m_above_ground              0.0\n",
      "7                v_component_of_wind_10m_above_ground              0.0\n",
      "8                    l3_no2_no2_column_number_density              0.0\n",
      "9              l3_no2_no2_slant_column_number_density              0.0\n",
      "10                     l3_no2_absorbing_aerosol_index              0.0\n",
      "11                              l3_no2_cloud_fraction              0.0\n",
      "12                             l3_no2_sensor_altitude              0.0\n",
      "13                        l3_no2_sensor_azimuth_angle              0.0\n",
      "14                         l3_no2_sensor_zenith_angle              0.0\n",
      "15                         l3_no2_solar_azimuth_angle              0.0\n",
      "16                          l3_no2_solar_zenith_angle              0.0\n",
      "17     l3_no2_stratospheric_no2_column_number_density              0.0\n",
      "18                         l3_no2_tropopause_pressure              0.0\n",
      "19      l3_no2_tropospheric_no2_column_number_density              0.0\n",
      "20                     l3_o3_o3_column_number_density              0.0\n",
      "21                     l3_o3_o3_effective_temperature              0.0\n",
      "22                               l3_o3_cloud_fraction              0.0\n",
      "23                         l3_o3_sensor_azimuth_angle              0.0\n",
      "24                          l3_o3_sensor_zenith_angle              0.0\n",
      "25                          l3_o3_solar_azimuth_angle              0.0\n",
      "26                           l3_o3_solar_zenith_angle              0.0\n",
      "27                     l3_co_co_column_number_density              0.0\n",
      "28                    l3_co_h2o_column_number_density              0.0\n",
      "29                                 l3_co_cloud_height              0.0\n",
      "30                              l3_co_sensor_altitude              0.0\n",
      "31                         l3_co_sensor_azimuth_angle              0.0\n",
      "32                          l3_co_sensor_zenith_angle              0.0\n",
      "33                          l3_co_solar_azimuth_angle              0.0\n",
      "34                           l3_co_solar_zenith_angle              0.0\n",
      "35           l3_hcho_hcho_slant_column_number_density              0.0\n",
      "36                             l3_hcho_cloud_fraction              0.0\n",
      "37                       l3_hcho_sensor_azimuth_angle              0.0\n",
      "38                        l3_hcho_sensor_zenith_angle              0.0\n",
      "39                        l3_hcho_solar_azimuth_angle              0.0\n",
      "40                         l3_hcho_solar_zenith_angle              0.0\n",
      "41    l3_hcho_tropospheric_hcho_column_number_density              0.0\n",
      "42  l3_hcho_tropospheric_hcho_column_number_densit...              0.0\n",
      "43                         l3_cloud_cloud_base_height              0.0\n",
      "44                       l3_cloud_cloud_base_pressure              0.0\n",
      "45                            l3_cloud_cloud_fraction              0.0\n",
      "46                       l3_cloud_cloud_optical_depth              0.0\n",
      "47                          l3_cloud_cloud_top_height              0.0\n",
      "48                        l3_cloud_cloud_top_pressure              0.0\n",
      "49                      l3_cloud_sensor_azimuth_angle              0.0\n",
      "50                       l3_cloud_sensor_zenith_angle              0.0\n",
      "51                       l3_cloud_solar_azimuth_angle              0.0\n",
      "52                        l3_cloud_solar_zenith_angle              0.0\n",
      "53                            l3_cloud_surface_albedo              0.0\n",
      "54                  l3_aer_ai_absorbing_aerosol_index              0.0\n",
      "55                          l3_aer_ai_sensor_altitude              0.0\n",
      "56                     l3_aer_ai_sensor_azimuth_angle              0.0\n",
      "57                      l3_aer_ai_sensor_zenith_angle              0.0\n",
      "58                      l3_aer_ai_solar_azimuth_angle              0.0\n",
      "59                       l3_aer_ai_solar_zenith_angle              0.0\n",
      "60                   l3_so2_so2_column_number_density              0.0\n",
      "61               l3_so2_so2_column_number_density_amf              0.0\n",
      "62             l3_so2_so2_slant_column_number_density              0.0\n",
      "63                     l3_so2_absorbing_aerosol_index              0.0\n",
      "64                              l3_so2_cloud_fraction              0.0\n",
      "65                        l3_so2_sensor_azimuth_angle              0.0\n",
      "66                         l3_so2_sensor_zenith_angle              0.0\n",
      "67                         l3_so2_solar_azimuth_angle              0.0\n",
      "68                          l3_so2_solar_zenith_angle              0.0\n",
      "69      l3_ch4_ch4_column_volume_mixing_ratio_dry_air              0.0\n",
      "70                              l3_ch4_aerosol_height              0.0\n",
      "71                       l3_ch4_aerosol_optical_depth              0.0\n",
      "72                        l3_ch4_sensor_azimuth_angle              0.0\n",
      "73                         l3_ch4_sensor_zenith_angle              0.0\n",
      "74                         l3_ch4_solar_azimuth_angle              0.0\n",
      "75                          l3_ch4_solar_zenith_angle              0.0\n",
      "76                                               year              0.0\n",
      "77                                              month              0.0\n",
      "78                                                day              0.0\n"
     ]
    }
   ],
   "source": [
    "#Null values percentages in columns after inputing with place_id average\n",
    "\n",
    "null_count = df_drop_test.isnull().sum()\n",
    "total_rows = len(df_drop_test)\n",
    "null_percentage = (null_count / total_rows) * 100\n",
    "null_info_df = pd.DataFrame({'Null Percentage': null_percentage})\n",
    "null_info_df.reset_index(inplace=True)\n",
    "print(null_info_df)"
   ]
  },
  {
   "cell_type": "code",
   "execution_count": 36,
   "metadata": {},
   "outputs": [
    {
     "data": {
      "text/plain": [
       "Index(['date', 'place_id', 'target', 'target_min', 'target_max',\n",
       "       'target_variance', 'target_count',\n",
       "       'precipitable_water_entire_atmosphere',\n",
       "       'relative_humidity_2m_above_ground',\n",
       "       'specific_humidity_2m_above_ground', 'temperature_2m_above_ground',\n",
       "       'u_component_of_wind_10m_above_ground',\n",
       "       'v_component_of_wind_10m_above_ground',\n",
       "       'l3_no2_no2_column_number_density',\n",
       "       'l3_no2_no2_slant_column_number_density',\n",
       "       'l3_no2_absorbing_aerosol_index', 'l3_no2_cloud_fraction',\n",
       "       'l3_no2_sensor_altitude', 'l3_no2_sensor_azimuth_angle',\n",
       "       'l3_no2_sensor_zenith_angle', 'l3_no2_solar_azimuth_angle',\n",
       "       'l3_no2_solar_zenith_angle',\n",
       "       'l3_no2_stratospheric_no2_column_number_density',\n",
       "       'l3_no2_tropopause_pressure',\n",
       "       'l3_no2_tropospheric_no2_column_number_density',\n",
       "       'l3_o3_o3_column_number_density', 'l3_o3_o3_effective_temperature',\n",
       "       'l3_o3_cloud_fraction', 'l3_o3_sensor_azimuth_angle',\n",
       "       'l3_o3_sensor_zenith_angle', 'l3_o3_solar_azimuth_angle',\n",
       "       'l3_o3_solar_zenith_angle', 'l3_co_co_column_number_density',\n",
       "       'l3_co_h2o_column_number_density', 'l3_co_cloud_height',\n",
       "       'l3_co_sensor_altitude', 'l3_co_sensor_azimuth_angle',\n",
       "       'l3_co_sensor_zenith_angle', 'l3_co_solar_azimuth_angle',\n",
       "       'l3_co_solar_zenith_angle', 'l3_hcho_hcho_slant_column_number_density',\n",
       "       'l3_hcho_cloud_fraction', 'l3_hcho_sensor_azimuth_angle',\n",
       "       'l3_hcho_sensor_zenith_angle', 'l3_hcho_solar_azimuth_angle',\n",
       "       'l3_hcho_solar_zenith_angle',\n",
       "       'l3_hcho_tropospheric_hcho_column_number_density',\n",
       "       'l3_hcho_tropospheric_hcho_column_number_density_amf',\n",
       "       'l3_cloud_cloud_base_height', 'l3_cloud_cloud_base_pressure',\n",
       "       'l3_cloud_cloud_fraction', 'l3_cloud_cloud_optical_depth',\n",
       "       'l3_cloud_cloud_top_height', 'l3_cloud_cloud_top_pressure',\n",
       "       'l3_cloud_sensor_azimuth_angle', 'l3_cloud_sensor_zenith_angle',\n",
       "       'l3_cloud_solar_azimuth_angle', 'l3_cloud_solar_zenith_angle',\n",
       "       'l3_cloud_surface_albedo', 'l3_aer_ai_absorbing_aerosol_index',\n",
       "       'l3_aer_ai_sensor_altitude', 'l3_aer_ai_sensor_azimuth_angle',\n",
       "       'l3_aer_ai_sensor_zenith_angle', 'l3_aer_ai_solar_azimuth_angle',\n",
       "       'l3_aer_ai_solar_zenith_angle', 'l3_so2_so2_column_number_density',\n",
       "       'l3_so2_so2_column_number_density_amf',\n",
       "       'l3_so2_so2_slant_column_number_density',\n",
       "       'l3_so2_absorbing_aerosol_index', 'l3_so2_cloud_fraction',\n",
       "       'l3_so2_sensor_azimuth_angle', 'l3_so2_sensor_zenith_angle',\n",
       "       'l3_so2_solar_azimuth_angle', 'l3_so2_solar_zenith_angle',\n",
       "       'l3_ch4_ch4_column_volume_mixing_ratio_dry_air',\n",
       "       'l3_ch4_aerosol_height', 'l3_ch4_aerosol_optical_depth',\n",
       "       'l3_ch4_sensor_azimuth_angle', 'l3_ch4_sensor_zenith_angle',\n",
       "       'l3_ch4_solar_azimuth_angle', 'l3_ch4_solar_zenith_angle', 'year',\n",
       "       'month', 'day', 'log_target', 'log_target_min', 'log_target_max'],\n",
       "      dtype='object')"
      ]
     },
     "execution_count": 36,
     "metadata": {},
     "output_type": "execute_result"
    }
   ],
   "source": [
    "df_drop_train.columns"
   ]
  },
  {
   "cell_type": "markdown",
   "metadata": {},
   "source": [
    "## Define Feature and Target, Train,Test Split"
   ]
  },
  {
   "cell_type": "code",
   "execution_count": 40,
   "metadata": {},
   "outputs": [],
   "source": [
    "# Define target and features \n",
    "\n",
    "y = df_drop_train['log_target']\n",
    "X= df_drop_train.drop(['date','target', 'target_min', 'target_max','target_variance', 'target_count','log_target', 'log_target_min', 'log_target_max','year'],axis=1)\n"
   ]
  },
  {
   "cell_type": "code",
   "execution_count": 41,
   "metadata": {},
   "outputs": [],
   "source": [
    "X_train, X_test, y_train, y_test = train_test_split(X, y, random_state=42, test_size=0.3)"
   ]
  },
  {
   "cell_type": "code",
   "execution_count": 42,
   "metadata": {},
   "outputs": [
    {
     "data": {
      "text/plain": [
       "((21387, 77), (9167, 77), (21387,), (9167,))"
      ]
     },
     "execution_count": 42,
     "metadata": {},
     "output_type": "execute_result"
    }
   ],
   "source": [
    "X_train.shape, X_test.shape, y_train.shape, y_test.shape"
   ]
  },
  {
   "cell_type": "code",
   "execution_count": 43,
   "metadata": {},
   "outputs": [
    {
     "data": {
      "text/plain": [
       "339"
      ]
     },
     "execution_count": 43,
     "metadata": {},
     "output_type": "execute_result"
    }
   ],
   "source": [
    "X_train['place_id'].nunique()"
   ]
  },
  {
   "cell_type": "code",
   "execution_count": 44,
   "metadata": {},
   "outputs": [],
   "source": [
    "# Create dummy variables for specific columns in the training set\n",
    "X_train = pd.get_dummies(X_train, columns=['month','day'])\n",
    "\n",
    "# Create dummy variables for the same columns in the testing set\n",
    "X_test = pd.get_dummies(X_test, columns=['month','day'])\n"
   ]
  },
  {
   "cell_type": "code",
   "execution_count": 45,
   "metadata": {},
   "outputs": [
    {
     "data": {
      "text/plain": [
       "((21387, 448), (9167, 448), (21387,), (9167,))"
      ]
     },
     "execution_count": 45,
     "metadata": {},
     "output_type": "execute_result"
    }
   ],
   "source": [
    "X_train.shape, X_test.shape, y_train.shape, y_test.shape"
   ]
  },
  {
   "cell_type": "markdown",
   "metadata": {},
   "source": [
    "## Linear Regression"
   ]
  },
  {
   "cell_type": "code",
   "execution_count": 46,
   "metadata": {},
   "outputs": [],
   "source": [
    "lin_reg = LinearRegression()"
   ]
  },
  {
   "cell_type": "code",
   "execution_count": 47,
   "metadata": {},
   "outputs": [
    {
     "data": {
      "text/html": [
       "<style>#sk-container-id-1 {color: black;background-color: white;}#sk-container-id-1 pre{padding: 0;}#sk-container-id-1 div.sk-toggleable {background-color: white;}#sk-container-id-1 label.sk-toggleable__label {cursor: pointer;display: block;width: 100%;margin-bottom: 0;padding: 0.3em;box-sizing: border-box;text-align: center;}#sk-container-id-1 label.sk-toggleable__label-arrow:before {content: \"▸\";float: left;margin-right: 0.25em;color: #696969;}#sk-container-id-1 label.sk-toggleable__label-arrow:hover:before {color: black;}#sk-container-id-1 div.sk-estimator:hover label.sk-toggleable__label-arrow:before {color: black;}#sk-container-id-1 div.sk-toggleable__content {max-height: 0;max-width: 0;overflow: hidden;text-align: left;background-color: #f0f8ff;}#sk-container-id-1 div.sk-toggleable__content pre {margin: 0.2em;color: black;border-radius: 0.25em;background-color: #f0f8ff;}#sk-container-id-1 input.sk-toggleable__control:checked~div.sk-toggleable__content {max-height: 200px;max-width: 100%;overflow: auto;}#sk-container-id-1 input.sk-toggleable__control:checked~label.sk-toggleable__label-arrow:before {content: \"▾\";}#sk-container-id-1 div.sk-estimator input.sk-toggleable__control:checked~label.sk-toggleable__label {background-color: #d4ebff;}#sk-container-id-1 div.sk-label input.sk-toggleable__control:checked~label.sk-toggleable__label {background-color: #d4ebff;}#sk-container-id-1 input.sk-hidden--visually {border: 0;clip: rect(1px 1px 1px 1px);clip: rect(1px, 1px, 1px, 1px);height: 1px;margin: -1px;overflow: hidden;padding: 0;position: absolute;width: 1px;}#sk-container-id-1 div.sk-estimator {font-family: monospace;background-color: #f0f8ff;border: 1px dotted black;border-radius: 0.25em;box-sizing: border-box;margin-bottom: 0.5em;}#sk-container-id-1 div.sk-estimator:hover {background-color: #d4ebff;}#sk-container-id-1 div.sk-parallel-item::after {content: \"\";width: 100%;border-bottom: 1px solid gray;flex-grow: 1;}#sk-container-id-1 div.sk-label:hover label.sk-toggleable__label {background-color: #d4ebff;}#sk-container-id-1 div.sk-serial::before {content: \"\";position: absolute;border-left: 1px solid gray;box-sizing: border-box;top: 0;bottom: 0;left: 50%;z-index: 0;}#sk-container-id-1 div.sk-serial {display: flex;flex-direction: column;align-items: center;background-color: white;padding-right: 0.2em;padding-left: 0.2em;position: relative;}#sk-container-id-1 div.sk-item {position: relative;z-index: 1;}#sk-container-id-1 div.sk-parallel {display: flex;align-items: stretch;justify-content: center;background-color: white;position: relative;}#sk-container-id-1 div.sk-item::before, #sk-container-id-1 div.sk-parallel-item::before {content: \"\";position: absolute;border-left: 1px solid gray;box-sizing: border-box;top: 0;bottom: 0;left: 50%;z-index: -1;}#sk-container-id-1 div.sk-parallel-item {display: flex;flex-direction: column;z-index: 1;position: relative;background-color: white;}#sk-container-id-1 div.sk-parallel-item:first-child::after {align-self: flex-end;width: 50%;}#sk-container-id-1 div.sk-parallel-item:last-child::after {align-self: flex-start;width: 50%;}#sk-container-id-1 div.sk-parallel-item:only-child::after {width: 0;}#sk-container-id-1 div.sk-dashed-wrapped {border: 1px dashed gray;margin: 0 0.4em 0.5em 0.4em;box-sizing: border-box;padding-bottom: 0.4em;background-color: white;}#sk-container-id-1 div.sk-label label {font-family: monospace;font-weight: bold;display: inline-block;line-height: 1.2em;}#sk-container-id-1 div.sk-label-container {text-align: center;}#sk-container-id-1 div.sk-container {/* jupyter's `normalize.less` sets `[hidden] { display: none; }` but bootstrap.min.css set `[hidden] { display: none !important; }` so we also need the `!important` here to be able to override the default hidden behavior on the sphinx rendered scikit-learn.org. See: https://github.com/scikit-learn/scikit-learn/issues/21755 */display: inline-block !important;position: relative;}#sk-container-id-1 div.sk-text-repr-fallback {display: none;}</style><div id=\"sk-container-id-1\" class=\"sk-top-container\"><div class=\"sk-text-repr-fallback\"><pre>LinearRegression()</pre><b>In a Jupyter environment, please rerun this cell to show the HTML representation or trust the notebook. <br />On GitHub, the HTML representation is unable to render, please try loading this page with nbviewer.org.</b></div><div class=\"sk-container\" hidden><div class=\"sk-item\"><div class=\"sk-estimator sk-toggleable\"><input class=\"sk-toggleable__control sk-hidden--visually\" id=\"sk-estimator-id-1\" type=\"checkbox\" checked><label for=\"sk-estimator-id-1\" class=\"sk-toggleable__label sk-toggleable__label-arrow\">LinearRegression</label><div class=\"sk-toggleable__content\"><pre>LinearRegression()</pre></div></div></div></div></div>"
      ],
      "text/plain": [
       "LinearRegression()"
      ]
     },
     "execution_count": 47,
     "metadata": {},
     "output_type": "execute_result"
    }
   ],
   "source": [
    "lin_reg.fit(X_train, y_train)"
   ]
  },
  {
   "cell_type": "code",
   "execution_count": 48,
   "metadata": {},
   "outputs": [],
   "source": [
    "y_pred = lin_reg.predict(X_test)"
   ]
  },
  {
   "cell_type": "code",
   "execution_count": 49,
   "metadata": {},
   "outputs": [
    {
     "data": {
      "image/png": "[encoded data removed]",
      "text/plain": [
       "<Figure size 800x550 with 1 Axes>"
      ]
     },
     "metadata": {},
     "output_type": "display_data"
    }
   ],
   "source": [
    "plt.style.use('fivethirtyeight')\n",
    " \n",
    "# plotting residual errors in training data\n",
    "plt.scatter(lin_reg.predict(X_train),\n",
    "            lin_reg.predict(X_train) - y_train,\n",
    "            color=\"orange\", s=10,\n",
    "            label='Train data',alpha=0.3)\n",
    " \n",
    "# plotting residual errors in test data\n",
    "#plt.scatter(y_pred,\n",
    "            #y_pred - y_test,\n",
    "            #color=\"blue\", s=10,\n",
    "            #label='Test data',alpha=0.5)\n",
    " \n",
    "# plotting line for zero residual error\n",
    "plt.hlines(y=0, xmin=0, xmax=8, linewidth=2)\n",
    " \n",
    "# plotting legend\n",
    "plt.legend(loc='upper right')\n",
    " \n",
    "# plot title\n",
    "plt.title(\"Residual errors\")\n",
    " \n",
    "# method call for showing the plot\n",
    "plt.show()"
   ]
  },
  {
   "cell_type": "code",
   "execution_count": 50,
   "metadata": {},
   "outputs": [
    {
     "name": "stderr",
     "output_type": "stream",
     "text": [
      "/var/folders/0v/n3w11jxs0zxdx0ty34xv_fx40000gn/T/ipykernel_30096/2579762598.py:3: MatplotlibDeprecationWarning: The seaborn styles shipped by Matplotlib are deprecated since 3.6, as they no longer correspond to the styles shipped by seaborn. However, they will remain available as 'seaborn-v0_8-<style>'. Alternatively, directly use the seaborn API instead.\n",
      "  plt.style.use('seaborn')\n",
      "No artists with labels found to put in legend.  Note that artists whose label start with an underscore are ignored when legend() is called with no argument.\n"
     ]
    },
    {
     "data": {
      "image/png": "[encoded data removed]",
      "text/plain": [
       "<Figure size 800x550 with 1 Axes>"
      ]
     },
     "metadata": {},
     "output_type": "display_data"
    }
   ],
   "source": [
    "plt.style.use('fivethirtyeight')\n",
    "plt.gca().set_facecolor('lightgray')\n",
    "plt.style.use('seaborn')\n",
    "plt.grid(True, linestyle='--', alpha=0.2, color='gray')\n",
    " \n",
    "# plotting residual errors in test data\n",
    "plt.scatter(lin_reg.predict(X_test),\n",
    "            lin_reg.predict(X_test) - y_test,\n",
    "            color=\"red\", s=10)\n",
    "\n",
    "\n",
    "plt.hlines(y=0, xmin=0, xmax=8, linewidth=2)\n",
    "plt.ylim(-3, 4)\n",
    "plt.legend(loc='upper right')\n",
    "plt.title(\"Out-of-sample residual errors - linear regression\")\n",
    "plt.show()"
   ]
  },
  {
   "cell_type": "code",
   "execution_count": 51,
   "metadata": {},
   "outputs": [
    {
     "name": "stdout",
     "output_type": "stream",
     "text": [
      "MSE: 0.167\n",
      "RMSE: 0.409\n",
      "R^2: 0.725\n",
      "Adjusted R^2: 0.711\n"
     ]
    }
   ],
   "source": [
    "mse = mean_squared_error(y_test, y_pred)\n",
    "print(f\"MSE: {mse:.3f}\")\n",
    "rmse = np.sqrt(mse)\n",
    "print(f\"RMSE: {rmse:.3f}\")\n",
    "r_2 = r2_score(y_test, y_pred)\n",
    "print(f\"R^2: {r_2:.3f}\")\n",
    "\n",
    "p = X_train.shape[1]\n",
    "n = len(y_test)  # Number of samples\n",
    "adjusted_r2 = 1 - (1 - r_2) * (n - 1) / (n - p - 1)\n",
    "print(f\"Adjusted R^2: {adjusted_r2:.3f}\")"
   ]
  },
  {
   "cell_type": "markdown",
   "metadata": {},
   "source": [
    "## Lasso Regression"
   ]
  },
  {
   "cell_type": "code",
   "execution_count": 77,
   "metadata": {},
   "outputs": [
    {
     "data": {
      "text/html": [
       "<style>#sk-container-id-2 {color: black;background-color: white;}#sk-container-id-2 pre{padding: 0;}#sk-container-id-2 div.sk-toggleable {background-color: white;}#sk-container-id-2 label.sk-toggleable__label {cursor: pointer;display: block;width: 100%;margin-bottom: 0;padding: 0.3em;box-sizing: border-box;text-align: center;}#sk-container-id-2 label.sk-toggleable__label-arrow:before {content: \"▸\";float: left;margin-right: 0.25em;color: #696969;}#sk-container-id-2 label.sk-toggleable__label-arrow:hover:before {color: black;}#sk-container-id-2 div.sk-estimator:hover label.sk-toggleable__label-arrow:before {color: black;}#sk-container-id-2 div.sk-toggleable__content {max-height: 0;max-width: 0;overflow: hidden;text-align: left;background-color: #f0f8ff;}#sk-container-id-2 div.sk-toggleable__content pre {margin: 0.2em;color: black;border-radius: 0.25em;background-color: #f0f8ff;}#sk-container-id-2 input.sk-toggleable__control:checked~div.sk-toggleable__content {max-height: 200px;max-width: 100%;overflow: auto;}#sk-container-id-2 input.sk-toggleable__control:checked~label.sk-toggleable__label-arrow:before {content: \"▾\";}#sk-container-id-2 div.sk-estimator input.sk-toggleable__control:checked~label.sk-toggleable__label {background-color: #d4ebff;}#sk-container-id-2 div.sk-label input.sk-toggleable__control:checked~label.sk-toggleable__label {background-color: #d4ebff;}#sk-container-id-2 input.sk-hidden--visually {border: 0;clip: rect(1px 1px 1px 1px);clip: rect(1px, 1px, 1px, 1px);height: 1px;margin: -1px;overflow: hidden;padding: 0;position: absolute;width: 1px;}#sk-container-id-2 div.sk-estimator {font-family: monospace;background-color: #f0f8ff;border: 1px dotted black;border-radius: 0.25em;box-sizing: border-box;margin-bottom: 0.5em;}#sk-container-id-2 div.sk-estimator:hover {background-color: #d4ebff;}#sk-container-id-2 div.sk-parallel-item::after {content: \"\";width: 100%;border-bottom: 1px solid gray;flex-grow: 1;}#sk-container-id-2 div.sk-label:hover label.sk-toggleable__label {background-color: #d4ebff;}#sk-container-id-2 div.sk-serial::before {content: \"\";position: absolute;border-left: 1px solid gray;box-sizing: border-box;top: 0;bottom: 0;left: 50%;z-index: 0;}#sk-container-id-2 div.sk-serial {display: flex;flex-direction: column;align-items: center;background-color: white;padding-right: 0.2em;padding-left: 0.2em;position: relative;}#sk-container-id-2 div.sk-item {position: relative;z-index: 1;}#sk-container-id-2 div.sk-parallel {display: flex;align-items: stretch;justify-content: center;background-color: white;position: relative;}#sk-container-id-2 div.sk-item::before, #sk-container-id-2 div.sk-parallel-item::before {content: \"\";position: absolute;border-left: 1px solid gray;box-sizing: border-box;top: 0;bottom: 0;left: 50%;z-index: -1;}#sk-container-id-2 div.sk-parallel-item {display: flex;flex-direction: column;z-index: 1;position: relative;background-color: white;}#sk-container-id-2 div.sk-parallel-item:first-child::after {align-self: flex-end;width: 50%;}#sk-container-id-2 div.sk-parallel-item:last-child::after {align-self: flex-start;width: 50%;}#sk-container-id-2 div.sk-parallel-item:only-child::after {width: 0;}#sk-container-id-2 div.sk-dashed-wrapped {border: 1px dashed gray;margin: 0 0.4em 0.5em 0.4em;box-sizing: border-box;padding-bottom: 0.4em;background-color: white;}#sk-container-id-2 div.sk-label label {font-family: monospace;font-weight: bold;display: inline-block;line-height: 1.2em;}#sk-container-id-2 div.sk-label-container {text-align: center;}#sk-container-id-2 div.sk-container {/* jupyter's `normalize.less` sets `[hidden] { display: none; }` but bootstrap.min.css set `[hidden] { display: none !important; }` so we also need the `!important` here to be able to override the default hidden behavior on the sphinx rendered scikit-learn.org. See: https://github.com/scikit-learn/scikit-learn/issues/21755 */display: inline-block !important;position: relative;}#sk-container-id-2 div.sk-text-repr-fallback {display: none;}</style><div id=\"sk-container-id-2\" class=\"sk-top-container\"><div class=\"sk-text-repr-fallback\"><pre>Lasso(alpha=0.5, max_iter=1000000)</pre><b>In a Jupyter environment, please rerun this cell to show the HTML representation or trust the notebook. <br />On GitHub, the HTML representation is unable to render, please try loading this page with nbviewer.org.</b></div><div class=\"sk-container\" hidden><div class=\"sk-item\"><div class=\"sk-estimator sk-toggleable\"><input class=\"sk-toggleable__control sk-hidden--visually\" id=\"sk-estimator-id-2\" type=\"checkbox\" checked><label for=\"sk-estimator-id-2\" class=\"sk-toggleable__label sk-toggleable__label-arrow\">Lasso</label><div class=\"sk-toggleable__content\"><pre>Lasso(alpha=0.5, max_iter=1000000)</pre></div></div></div></div></div>"
      ],
      "text/plain": [
       "Lasso(alpha=0.5, max_iter=1000000)"
      ]
     },
     "execution_count": 77,
     "metadata": {},
     "output_type": "execute_result"
    }
   ],
   "source": [
    "lasso = Lasso(alpha=0.5, max_iter=int(10e5))\n",
    "lasso.fit(X_train,y_train)"
   ]
  },
  {
   "cell_type": "code",
   "execution_count": 78,
   "metadata": {},
   "outputs": [],
   "source": [
    "y_pred_lasso = lasso.predict(X_test)"
   ]
  },
  {
   "cell_type": "code",
   "execution_count": 128,
   "metadata": {},
   "outputs": [
    {
     "name": "stdout",
     "output_type": "stream",
     "text": [
      "MSE: 0.488\n",
      "RMSE: 0.699\n",
      "R^2: 0.199\n",
      "Adjusted R^2: 0.158\n"
     ]
    }
   ],
   "source": [
    "mse_lasso = mean_squared_error(y_test, y_pred_lasso)\n",
    "print(f\"MSE: {mse_lasso:.3f}\")\n",
    "rmse_lasso = np.sqrt(mse_lasso)\n",
    "print(f\"RMSE: {rmse_lasso:.3f}\")\n",
    "r_2 = r2_score(y_test, y_pred_lasso)\n",
    "print(f\"R^2: {r_2:.3f}\")\n",
    "\n",
    "p = X_train.shape[1]\n",
    "n = len(y_test)  # Number of samples\n",
    "adjusted_r2_lasso = 1 - (1 - r_2) * (n - 1) / (n - p - 1)\n",
    "print(f\"Adjusted R^2: {adjusted_r2_lasso:.3f}\")"
   ]
  },
  {
   "cell_type": "code",
   "execution_count": 91,
   "metadata": {},
   "outputs": [
    {
     "name": "stdout",
     "output_type": "stream",
     "text": [
      "Selected Variables in Model 1: ['relative_humidity_2m_above_ground', 'temperature_2m_above_ground', 'l3_no2_sensor_altitude', 'l3_no2_tropopause_pressure', 'l3_co_h2o_column_number_density', 'l3_co_cloud_height', 'l3_co_sensor_altitude', 'l3_co_solar_azimuth_angle', 'l3_cloud_cloud_base_height', 'l3_cloud_cloud_base_pressure', 'l3_cloud_cloud_optical_depth', 'l3_cloud_cloud_top_height', 'l3_cloud_cloud_top_pressure', 'l3_cloud_solar_azimuth_angle', 'l3_aer_ai_sensor_altitude', 'l3_aer_ai_sensor_azimuth_angle', 'l3_so2_sensor_azimuth_angle', 'l3_so2_solar_azimuth_angle', 'l3_ch4_ch4_column_volume_mixing_ratio_dry_air', 'l3_ch4_aerosol_height']\n",
      "The model is using 20 out of 448 features.\n",
      "The highest coefficient has a value of: 0.001\n"
     ]
    }
   ],
   "source": [
    "coefficients_1 = lasso.coef_\n",
    "# Create a list of selected variables based on non-zero coefficients\n",
    "selected_variables_1 = [var for coef, var in zip(coefficients_1, X_train.columns) if coef != 0]\n",
    "\n",
    "# Print the selected variables in Model 1\n",
    "print(\"Selected Variables in Model 1:\", selected_variables_1)\n",
    "\n",
    "#Print number of features Lasso uses\n",
    "def coeff_info(model, total_features):\n",
    "    coeff_used = np.sum(model.coef_ != 0)\n",
    "    print('The model is using', coeff_used, 'out of', total_features, 'features.')\n",
    "    print(\"The highest coefficient has a value of:\", max(model.coef_.round(3)))\n",
    "    \n",
    "coeff_info(lasso, total_features=X_train.shape[1])"
   ]
  },
  {
   "cell_type": "markdown",
   "metadata": {},
   "source": [
    "## Ridge Regression"
   ]
  },
  {
   "cell_type": "code",
   "execution_count": 93,
   "metadata": {},
   "outputs": [
    {
     "data": {
      "text/html": [
       "<style>#sk-container-id-3 {color: black;background-color: white;}#sk-container-id-3 pre{padding: 0;}#sk-container-id-3 div.sk-toggleable {background-color: white;}#sk-container-id-3 label.sk-toggleable__label {cursor: pointer;display: block;width: 100%;margin-bottom: 0;padding: 0.3em;box-sizing: border-box;text-align: center;}#sk-container-id-3 label.sk-toggleable__label-arrow:before {content: \"▸\";float: left;margin-right: 0.25em;color: #696969;}#sk-container-id-3 label.sk-toggleable__label-arrow:hover:before {color: black;}#sk-container-id-3 div.sk-estimator:hover label.sk-toggleable__label-arrow:before {color: black;}#sk-container-id-3 div.sk-toggleable__content {max-height: 0;max-width: 0;overflow: hidden;text-align: left;background-color: #f0f8ff;}#sk-container-id-3 div.sk-toggleable__content pre {margin: 0.2em;color: black;border-radius: 0.25em;background-color: #f0f8ff;}#sk-container-id-3 input.sk-toggleable__control:checked~div.sk-toggleable__content {max-height: 200px;max-width: 100%;overflow: auto;}#sk-container-id-3 input.sk-toggleable__control:checked~label.sk-toggleable__label-arrow:before {content: \"▾\";}#sk-container-id-3 div.sk-estimator input.sk-toggleable__control:checked~label.sk-toggleable__label {background-color: #d4ebff;}#sk-container-id-3 div.sk-label input.sk-toggleable__control:checked~label.sk-toggleable__label {background-color: #d4ebff;}#sk-container-id-3 input.sk-hidden--visually {border: 0;clip: rect(1px 1px 1px 1px);clip: rect(1px, 1px, 1px, 1px);height: 1px;margin: -1px;overflow: hidden;padding: 0;position: absolute;width: 1px;}#sk-container-id-3 div.sk-estimator {font-family: monospace;background-color: #f0f8ff;border: 1px dotted black;border-radius: 0.25em;box-sizing: border-box;margin-bottom: 0.5em;}#sk-container-id-3 div.sk-estimator:hover {background-color: #d4ebff;}#sk-container-id-3 div.sk-parallel-item::after {content: \"\";width: 100%;border-bottom: 1px solid gray;flex-grow: 1;}#sk-container-id-3 div.sk-label:hover label.sk-toggleable__label {background-color: #d4ebff;}#sk-container-id-3 div.sk-serial::before {content: \"\";position: absolute;border-left: 1px solid gray;box-sizing: border-box;top: 0;bottom: 0;left: 50%;z-index: 0;}#sk-container-id-3 div.sk-serial {display: flex;flex-direction: column;align-items: center;background-color: white;padding-right: 0.2em;padding-left: 0.2em;position: relative;}#sk-container-id-3 div.sk-item {position: relative;z-index: 1;}#sk-container-id-3 div.sk-parallel {display: flex;align-items: stretch;justify-content: center;background-color: white;position: relative;}#sk-container-id-3 div.sk-item::before, #sk-container-id-3 div.sk-parallel-item::before {content: \"\";position: absolute;border-left: 1px solid gray;box-sizing: border-box;top: 0;bottom: 0;left: 50%;z-index: -1;}#sk-container-id-3 div.sk-parallel-item {display: flex;flex-direction: column;z-index: 1;position: relative;background-color: white;}#sk-container-id-3 div.sk-parallel-item:first-child::after {align-self: flex-end;width: 50%;}#sk-container-id-3 div.sk-parallel-item:last-child::after {align-self: flex-start;width: 50%;}#sk-container-id-3 div.sk-parallel-item:only-child::after {width: 0;}#sk-container-id-3 div.sk-dashed-wrapped {border: 1px dashed gray;margin: 0 0.4em 0.5em 0.4em;box-sizing: border-box;padding-bottom: 0.4em;background-color: white;}#sk-container-id-3 div.sk-label label {font-family: monospace;font-weight: bold;display: inline-block;line-height: 1.2em;}#sk-container-id-3 div.sk-label-container {text-align: center;}#sk-container-id-3 div.sk-container {/* jupyter's `normalize.less` sets `[hidden] { display: none; }` but bootstrap.min.css set `[hidden] { display: none !important; }` so we also need the `!important` here to be able to override the default hidden behavior on the sphinx rendered scikit-learn.org. See: https://github.com/scikit-learn/scikit-learn/issues/21755 */display: inline-block !important;position: relative;}#sk-container-id-3 div.sk-text-repr-fallback {display: none;}</style><div id=\"sk-container-id-3\" class=\"sk-top-container\"><div class=\"sk-text-repr-fallback\"><pre>Ridge()</pre><b>In a Jupyter environment, please rerun this cell to show the HTML representation or trust the notebook. <br />On GitHub, the HTML representation is unable to render, please try loading this page with nbviewer.org.</b></div><div class=\"sk-container\" hidden><div class=\"sk-item\"><div class=\"sk-estimator sk-toggleable\"><input class=\"sk-toggleable__control sk-hidden--visually\" id=\"sk-estimator-id-3\" type=\"checkbox\" checked><label for=\"sk-estimator-id-3\" class=\"sk-toggleable__label sk-toggleable__label-arrow\">Ridge</label><div class=\"sk-toggleable__content\"><pre>Ridge()</pre></div></div></div></div></div>"
      ],
      "text/plain": [
       "Ridge()"
      ]
     },
     "execution_count": 93,
     "metadata": {},
     "output_type": "execute_result"
    }
   ],
   "source": [
    "alpha = 1.0  # Regularization strength (hyperparameter); you can adjust this value\n",
    "\n",
    "ridge_model = Ridge(alpha=alpha)\n",
    "\n",
    "ridge_model.fit(X_train, y_train)"
   ]
  },
  {
   "cell_type": "code",
   "execution_count": 95,
   "metadata": {},
   "outputs": [],
   "source": [
    "y_pred_ridge = ridge_model.predict(X_test)"
   ]
  },
  {
   "cell_type": "code",
   "execution_count": 127,
   "metadata": {},
   "outputs": [
    {
     "name": "stdout",
     "output_type": "stream",
     "text": [
      "MSE: 0.176\n",
      "RMSE: 0.420\n",
      "R^2: 0.711\n",
      "Adjusted R^2: 0.697\n"
     ]
    }
   ],
   "source": [
    "mse_ridge = mean_squared_error(y_test, y_pred_ridge)\n",
    "print(f\"MSE: {mse_ridge:.3f}\")\n",
    "rmse_ridge = np.sqrt(mse_ridge)\n",
    "print(f\"RMSE: {rmse_ridge:.3f}\")\n",
    "r_2 = r2_score(y_test, y_pred_ridge)\n",
    "print(f\"R^2: {r_2:.3f}\")\n",
    "\n",
    "p = X_train.shape[1]\n",
    "n = len(y_test)  # Number of samples\n",
    "adjusted_r2_ridge = 1 - (1 - r_2) * (n - 1) / (n - p - 1)\n",
    "print(f\"Adjusted R^2: {adjusted_r2_ridge:.3f}\")"
   ]
  },
  {
   "cell_type": "markdown",
   "metadata": {},
   "source": [
    "## Random Forest Regressor"
   ]
  },
  {
   "cell_type": "code",
   "execution_count": 109,
   "metadata": {},
   "outputs": [
    {
     "data": {
      "text/html": [
       "<style>#sk-container-id-6 {color: black;background-color: white;}#sk-container-id-6 pre{padding: 0;}#sk-container-id-6 div.sk-toggleable {background-color: white;}#sk-container-id-6 label.sk-toggleable__label {cursor: pointer;display: block;width: 100%;margin-bottom: 0;padding: 0.3em;box-sizing: border-box;text-align: center;}#sk-container-id-6 label.sk-toggleable__label-arrow:before {content: \"▸\";float: left;margin-right: 0.25em;color: #696969;}#sk-container-id-6 label.sk-toggleable__label-arrow:hover:before {color: black;}#sk-container-id-6 div.sk-estimator:hover label.sk-toggleable__label-arrow:before {color: black;}#sk-container-id-6 div.sk-toggleable__content {max-height: 0;max-width: 0;overflow: hidden;text-align: left;background-color: #f0f8ff;}#sk-container-id-6 div.sk-toggleable__content pre {margin: 0.2em;color: black;border-radius: 0.25em;background-color: #f0f8ff;}#sk-container-id-6 input.sk-toggleable__control:checked~div.sk-toggleable__content {max-height: 200px;max-width: 100%;overflow: auto;}#sk-container-id-6 input.sk-toggleable__control:checked~label.sk-toggleable__label-arrow:before {content: \"▾\";}#sk-container-id-6 div.sk-estimator input.sk-toggleable__control:checked~label.sk-toggleable__label {background-color: #d4ebff;}#sk-container-id-6 div.sk-label input.sk-toggleable__control:checked~label.sk-toggleable__label {background-color: #d4ebff;}#sk-container-id-6 input.sk-hidden--visually {border: 0;clip: rect(1px 1px 1px 1px);clip: rect(1px, 1px, 1px, 1px);height: 1px;margin: -1px;overflow: hidden;padding: 0;position: absolute;width: 1px;}#sk-container-id-6 div.sk-estimator {font-family: monospace;background-color: #f0f8ff;border: 1px dotted black;border-radius: 0.25em;box-sizing: border-box;margin-bottom: 0.5em;}#sk-container-id-6 div.sk-estimator:hover {background-color: #d4ebff;}#sk-container-id-6 div.sk-parallel-item::after {content: \"\";width: 100%;border-bottom: 1px solid gray;flex-grow: 1;}#sk-container-id-6 div.sk-label:hover label.sk-toggleable__label {background-color: #d4ebff;}#sk-container-id-6 div.sk-serial::before {content: \"\";position: absolute;border-left: 1px solid gray;box-sizing: border-box;top: 0;bottom: 0;left: 50%;z-index: 0;}#sk-container-id-6 div.sk-serial {display: flex;flex-direction: column;align-items: center;background-color: white;padding-right: 0.2em;padding-left: 0.2em;position: relative;}#sk-container-id-6 div.sk-item {position: relative;z-index: 1;}#sk-container-id-6 div.sk-parallel {display: flex;align-items: stretch;justify-content: center;background-color: white;position: relative;}#sk-container-id-6 div.sk-item::before, #sk-container-id-6 div.sk-parallel-item::before {content: \"\";position: absolute;border-left: 1px solid gray;box-sizing: border-box;top: 0;bottom: 0;left: 50%;z-index: -1;}#sk-container-id-6 div.sk-parallel-item {display: flex;flex-direction: column;z-index: 1;position: relative;background-color: white;}#sk-container-id-6 div.sk-parallel-item:first-child::after {align-self: flex-end;width: 50%;}#sk-container-id-6 div.sk-parallel-item:last-child::after {align-self: flex-start;width: 50%;}#sk-container-id-6 div.sk-parallel-item:only-child::after {width: 0;}#sk-container-id-6 div.sk-dashed-wrapped {border: 1px dashed gray;margin: 0 0.4em 0.5em 0.4em;box-sizing: border-box;padding-bottom: 0.4em;background-color: white;}#sk-container-id-6 div.sk-label label {font-family: monospace;font-weight: bold;display: inline-block;line-height: 1.2em;}#sk-container-id-6 div.sk-label-container {text-align: center;}#sk-container-id-6 div.sk-container {/* jupyter's `normalize.less` sets `[hidden] { display: none; }` but bootstrap.min.css set `[hidden] { display: none !important; }` so we also need the `!important` here to be able to override the default hidden behavior on the sphinx rendered scikit-learn.org. See: https://github.com/scikit-learn/scikit-learn/issues/21755 */display: inline-block !important;position: relative;}#sk-container-id-6 div.sk-text-repr-fallback {display: none;}</style><div id=\"sk-container-id-6\" class=\"sk-top-container\"><div class=\"sk-text-repr-fallback\"><pre>RandomForestRegressor(max_depth=4, max_samples=0.2, min_samples_leaf=20,\n",
       "                      n_estimators=1000, n_jobs=-1, random_state=42)</pre><b>In a Jupyter environment, please rerun this cell to show the HTML representation or trust the notebook. <br />On GitHub, the HTML representation is unable to render, please try loading this page with nbviewer.org.</b></div><div class=\"sk-container\" hidden><div class=\"sk-item\"><div class=\"sk-estimator sk-toggleable\"><input class=\"sk-toggleable__control sk-hidden--visually\" id=\"sk-estimator-id-6\" type=\"checkbox\" checked><label for=\"sk-estimator-id-6\" class=\"sk-toggleable__label sk-toggleable__label-arrow\">RandomForestRegressor</label><div class=\"sk-toggleable__content\"><pre>RandomForestRegressor(max_depth=4, max_samples=0.2, min_samples_leaf=20,\n",
       "                      n_estimators=1000, n_jobs=-1, random_state=42)</pre></div></div></div></div></div>"
      ],
      "text/plain": [
       "RandomForestRegressor(max_depth=4, max_samples=0.2, min_samples_leaf=20,\n",
       "                      n_estimators=1000, n_jobs=-1, random_state=42)"
      ]
     },
     "execution_count": 109,
     "metadata": {},
     "output_type": "execute_result"
    }
   ],
   "source": [
    "random_regr = RandomForestRegressor(n_estimators=1000, max_depth=4,min_samples_leaf=20 ,max_samples=0.2 ,random_state=42, n_jobs=-1)\n",
    "\n",
    "random_regr.fit(X_train,y_train)"
   ]
  },
  {
   "cell_type": "code",
   "execution_count": 110,
   "metadata": {},
   "outputs": [],
   "source": [
    "y_pred_randfor = random_regr.predict(X_test)"
   ]
  },
  {
   "cell_type": "code",
   "execution_count": 126,
   "metadata": {},
   "outputs": [
    {
     "name": "stdout",
     "output_type": "stream",
     "text": [
      "MSE: 0.383\n",
      "RMSE: 0.420\n",
      "R^2: 0.371\n",
      "Adjusted R^2: 0.339\n"
     ]
    }
   ],
   "source": [
    "mse_randfor = mean_squared_error(y_test, y_pred_randfor)\n",
    "print(f\"MSE: {mse_randfor:.3f}\")\n",
    "rmse_randfor = np.sqrt(mse_randfor)\n",
    "print(f\"RMSE: {rmse_ridge:.3f}\")\n",
    "r_2 = r2_score(y_test, y_pred_randfor)\n",
    "print(f\"R^2: {r_2:.3f}\")\n",
    "\n",
    "p = X_train.shape[1]\n",
    "n = len(y_test)  # Number of samples\n",
    "adjusted_r2_randfor = 1 - (1 - r_2) * (n - 1) / (n - p - 1)\n",
    "print(f\"Adjusted R^2: {adjusted_r2_randfor:.3f}\")"
   ]
  },
  {
   "cell_type": "markdown",
   "metadata": {},
   "source": [
    "## Extra Tree Regressor"
   ]
  },
  {
   "cell_type": "code",
   "execution_count": 122,
   "metadata": {},
   "outputs": [
    {
     "data": {
      "text/plain": [
       "0.7629775543573087"
      ]
     },
     "execution_count": 122,
     "metadata": {},
     "output_type": "execute_result"
    }
   ],
   "source": [
    "extra_tree = ExtraTreesRegressor(n_estimators=500, random_state=42)\n",
    "extra_tree.fit(X_train, y_train)\n",
    "\n",
    "extra_tree.score(X_test, y_test)"
   ]
  },
  {
   "cell_type": "code",
   "execution_count": 123,
   "metadata": {},
   "outputs": [],
   "source": [
    "y_pred_extree = extra_tree.predict(X_test)"
   ]
  },
  {
   "cell_type": "code",
   "execution_count": null,
   "metadata": {},
   "outputs": [],
   "source": [
    "# Get feature importances from the trained model\n",
    "feature_importances = extra_tree.feature_importances_\n",
    "feature_importance_df = pd.DataFrame({'Feature': X_train.columns, 'Importance': feature_importances})\n",
    "feature_importance_df = feature_importance_df.sort_values(by='Importance', ascending=False)\n",
    "top_10_features = feature_importance_df.head(10)\n",
    "print(top_10_features)\n",
    "\n",
    "plt.figure(figsize=(10, 6))\n",
    "plt.barh(top_10_features['Feature'], top_10_features['Importance'])\n",
    "plt.xlabel('Importance')\n",
    "plt.ylabel('Feature')\n",
    "plt.title('Top 10 Most Important Features')\n",
    "plt.gca().invert_yaxis()  \n",
    "plt.show()"
   ]
  },
  {
   "cell_type": "code",
   "execution_count": 160,
   "metadata": {},
   "outputs": [
    {
     "data": {
      "image/png": "[encoded data removed]",
      "text/plain": [
       "<Figure size 1200x800 with 1 Axes>"
      ]
     },
     "metadata": {},
     "output_type": "display_data"
    }
   ],
   "source": [
    "def feature_plot(importances, X_train, y_train):\n",
    "    \n",
    "    # Display the five most important features\n",
    "    indices = np.argsort(importances)[::-1]\n",
    "    columns = X_train.columns.values[indices[:10]]\n",
    "    values = importances[indices][:10]\n",
    "\n",
    "    # Creat the plot\n",
    "    fig = plt.figure(figsize = (12,8))\n",
    "    plt.title(\"Normalized Weights for First Five Most Predictive Features\", fontsize = 16)\n",
    "    plt.bar(np.arange(10), values, width = 0.6, align=\"center\", color = '#00A000', \\\n",
    "          label = \"Feature Weight\")\n",
    "    plt.bar(np.arange(10) - 0.3, np.cumsum(values), width = 0.2, align = \"center\", color = '#00A0A0', \\\n",
    "          label = \"Cumulative Feature Weight\")\n",
    "    plt.xticks(np.arange(10), columns, rotation=45, fontsize=12)\n",
    "    plt.xlim((-0.5, 4.5))\n",
    "    plt.ylabel(\"Weight\", fontsize = 12)\n",
    "    plt.xlabel(\"Feature\", fontsize = 12)\n",
    "    \n",
    "\n",
    "    plt.legend(loc = 'upper center')\n",
    "    plt.tight_layout()\n",
    "    plt.show()  \n",
    "\n",
    "imp_features = extra_tree.feature_importances_\n",
    "\n",
    "\n",
    "# Plot\n",
    "feature_plot(imp_features, X_train, y_train)"
   ]
  },
  {
   "cell_type": "markdown",
   "metadata": {},
   "source": [
    "### Based on the feature names and their corresponding importance scores in the table you provided, it appears that you are working with a machine learning model for environmental or atmospheric data. Here's an interpretation of the top 10 features:\n",
    "\n",
    "- l3_aer_ai_sensor_altitude: This feature might represent the altitude information related to a sensor measuring aerosol concentration or properties in the atmosphere.\n",
    "- l3_co_co_column_number_density: This feature could represent the column number density of carbon monoxide (CO) in the atmosphere.\n",
    "- place_id_J3C3IAI: This seems to be a categorical feature related to a specific place or location, possibly encoded as a label or identifier.\n",
    "- l3_hcho_tropospheric_hcho_column_number_density: This feature could represent the tropospheric column number density of formaldehyde (HCHO) in the atmosphere.\n",
    "- l3_no2_no2_slant_column_number_density: This feature may represent the slant column number density of nitrogen dioxide (NO2) in the atmosphere.\n",
    "- u_component_of_wind_10m_above_ground: This feature likely represents the east-west component of wind velocity at a height of 10 meters above the ground.\n",
    "- l3_hcho_hcho_slant_column_number_density: This feature may represent the slant column number density of formaldehyde (HCHO) in the atmosphere, similar to feature #4 but possibly using a different measurement method or altitude.\n",
    "- v_component_of_wind_10m_above_ground: This feature likely represents the north-south component of wind velocity at a height of 10 meters above the ground.\n",
    "- l3_no2_tropospheric_no2_column_number_density: This feature could represent the tropospheric column number density of nitrogen dioxide (NO2) in the atmosphere, similar to feature #5 but possibly considering the troposphere.\n",
    "- l3_no2_no2_column_number_density: This feature may represent the column number density of nitrogen dioxide (NO2) in the atmosphere, similar to feature #5 but possibly considering the entire column of the atmosphere.\n"
   ]
  },
  {
   "cell_type": "code",
   "execution_count": 125,
   "metadata": {},
   "outputs": [
    {
     "name": "stdout",
     "output_type": "stream",
     "text": [
      "MSE: 0.145\n",
      "RMSE: 0.420\n",
      "R^2: 0.763\n",
      "Adjusted R^2: 0.751\n"
     ]
    }
   ],
   "source": [
    "mse_extree = mean_squared_error(y_test, y_pred_extree)\n",
    "print(f\"MSE: {mse_extree:.3f}\")\n",
    "rmse_extree = np.sqrt(mse_extree)\n",
    "print(f\"RMSE: {rmse_ridge:.3f}\")\n",
    "r_2 = r2_score(y_test, y_pred_extree)\n",
    "print(f\"R^2: {r_2:.3f}\")\n",
    "\n",
    "p = X_train.shape[1]\n",
    "n = len(y_test)  # Number of samples\n",
    "adjusted_r2_extree = 1 - (1 - r_2) * (n - 1) / (n - p - 1)\n",
    "print(f\"Adjusted R^2: {adjusted_r2_extree:.3f}\")"
   ]
  },
  {
   "cell_type": "code",
   "execution_count": null,
   "metadata": {},
   "outputs": [],
   "source": [
    "plt.style.use('fivethirtyeight')\n",
    "plt.gca().set_facecolor('lightgray')\n",
    "plt.style.use('seaborn')\n",
    "plt.grid(True, linestyle='--', alpha=0.2, color='gray')\n",
    " \n",
    "# plotting residual errors in test data\n",
    "plt.scatter(extra_tree.predict(X_train),\n",
    "            extra_tree.predict(X_train) - y_train,\n",
    "            color=\"red\", s=10)\n",
    "\n",
    "\n",
    "plt.hlines(y=0, xmin=0, xmax=8, linewidth=2)\n",
    "plt.ylim(-3, 4)\n",
    "plt.legend(loc='upper right')\n",
    "plt.title(\"In-sample residual errors - extra trees regressor\")\n",
    "plt.show()"
   ]
  },
  {
   "cell_type": "code",
   "execution_count": null,
   "metadata": {},
   "outputs": [],
   "source": [
    "plt.style.use('fivethirtyeight')\n",
    "plt.gca().set_facecolor('lightgray')\n",
    "plt.style.use('seaborn')\n",
    "plt.grid(True, linestyle='--', alpha=0.2, color='gray')\n",
    " \n",
    "# plotting residual errors in test data\n",
    "plt.scatter(extra_tree.predict(X_test),\n",
    "            extra_tree.predict(X_test) - y_test,\n",
    "            color=\"red\", s=10)\n",
    "\n",
    "\n",
    "plt.hlines(y=0, xmin=0, xmax=8, linewidth=2)\n",
    "plt.ylim(-3, 4)\n",
    "plt.legend(loc='upper right')\n",
    "plt.title(\"Out-of-sample residual errors - extra trees regressor\")\n",
    "plt.show()"
   ]
  },
  {
   "cell_type": "markdown",
   "metadata": {},
   "source": [
    "## KNN Regression"
   ]
  },
  {
   "cell_type": "code",
   "execution_count": 170,
   "metadata": {},
   "outputs": [],
   "source": [
    "knn = KNeighborsRegressor(n_neighbors=21)\n",
    "\n",
    "knn.fit(X_train, y_train)\n",
    "\n",
    "y_pred_knn = knn.predict(X_test)"
   ]
  },
  {
   "cell_type": "code",
   "execution_count": 171,
   "metadata": {},
   "outputs": [
    {
     "name": "stdout",
     "output_type": "stream",
     "text": [
      "MSE: 0.470\n",
      "RMSE: 0.685\n",
      "R^2: 0.230\n",
      "Adjusted R^2: 0.190\n"
     ]
    }
   ],
   "source": [
    "mse_knn = mean_squared_error(y_test, y_pred_knn)\n",
    "print(f\"MSE: {mse_knn:.3f}\")\n",
    "rmse_knn = np.sqrt(mse_knn)\n",
    "print(f\"RMSE: {rmse_knn:.3f}\")\n",
    "r_2 = r2_score(y_test, y_pred_knn)\n",
    "print(f\"R^2: {r_2:.3f}\")\n",
    "\n",
    "p = X_train.shape[1]\n",
    "n = len(y_test)  # Number of samples\n",
    "adjusted_r2_knn = 1 - (1 - r_2) * (n - 1) / (n - p - 1)\n",
    "print(f\"Adjusted R^2: {adjusted_r2_knn:.3f}\")"
   ]
  },
  {
   "cell_type": "markdown",
   "metadata": {},
   "source": [
    "## Gradient Boosting Regressor"
   ]
  },
  {
   "cell_type": "code",
   "execution_count": 172,
   "metadata": {},
   "outputs": [
    {
     "data": {
      "text/html": [
       "<style>#sk-container-id-8 {color: black;background-color: white;}#sk-container-id-8 pre{padding: 0;}#sk-container-id-8 div.sk-toggleable {background-color: white;}#sk-container-id-8 label.sk-toggleable__label {cursor: pointer;display: block;width: 100%;margin-bottom: 0;padding: 0.3em;box-sizing: border-box;text-align: center;}#sk-container-id-8 label.sk-toggleable__label-arrow:before {content: \"▸\";float: left;margin-right: 0.25em;color: #696969;}#sk-container-id-8 label.sk-toggleable__label-arrow:hover:before {color: black;}#sk-container-id-8 div.sk-estimator:hover label.sk-toggleable__label-arrow:before {color: black;}#sk-container-id-8 div.sk-toggleable__content {max-height: 0;max-width: 0;overflow: hidden;text-align: left;background-color: #f0f8ff;}#sk-container-id-8 div.sk-toggleable__content pre {margin: 0.2em;color: black;border-radius: 0.25em;background-color: #f0f8ff;}#sk-container-id-8 input.sk-toggleable__control:checked~div.sk-toggleable__content {max-height: 200px;max-width: 100%;overflow: auto;}#sk-container-id-8 input.sk-toggleable__control:checked~label.sk-toggleable__label-arrow:before {content: \"▾\";}#sk-container-id-8 div.sk-estimator input.sk-toggleable__control:checked~label.sk-toggleable__label {background-color: #d4ebff;}#sk-container-id-8 div.sk-label input.sk-toggleable__control:checked~label.sk-toggleable__label {background-color: #d4ebff;}#sk-container-id-8 input.sk-hidden--visually {border: 0;clip: rect(1px 1px 1px 1px);clip: rect(1px, 1px, 1px, 1px);height: 1px;margin: -1px;overflow: hidden;padding: 0;position: absolute;width: 1px;}#sk-container-id-8 div.sk-estimator {font-family: monospace;background-color: #f0f8ff;border: 1px dotted black;border-radius: 0.25em;box-sizing: border-box;margin-bottom: 0.5em;}#sk-container-id-8 div.sk-estimator:hover {background-color: #d4ebff;}#sk-container-id-8 div.sk-parallel-item::after {content: \"\";width: 100%;border-bottom: 1px solid gray;flex-grow: 1;}#sk-container-id-8 div.sk-label:hover label.sk-toggleable__label {background-color: #d4ebff;}#sk-container-id-8 div.sk-serial::before {content: \"\";position: absolute;border-left: 1px solid gray;box-sizing: border-box;top: 0;bottom: 0;left: 50%;z-index: 0;}#sk-container-id-8 div.sk-serial {display: flex;flex-direction: column;align-items: center;background-color: white;padding-right: 0.2em;padding-left: 0.2em;position: relative;}#sk-container-id-8 div.sk-item {position: relative;z-index: 1;}#sk-container-id-8 div.sk-parallel {display: flex;align-items: stretch;justify-content: center;background-color: white;position: relative;}#sk-container-id-8 div.sk-item::before, #sk-container-id-8 div.sk-parallel-item::before {content: \"\";position: absolute;border-left: 1px solid gray;box-sizing: border-box;top: 0;bottom: 0;left: 50%;z-index: -1;}#sk-container-id-8 div.sk-parallel-item {display: flex;flex-direction: column;z-index: 1;position: relative;background-color: white;}#sk-container-id-8 div.sk-parallel-item:first-child::after {align-self: flex-end;width: 50%;}#sk-container-id-8 div.sk-parallel-item:last-child::after {align-self: flex-start;width: 50%;}#sk-container-id-8 div.sk-parallel-item:only-child::after {width: 0;}#sk-container-id-8 div.sk-dashed-wrapped {border: 1px dashed gray;margin: 0 0.4em 0.5em 0.4em;box-sizing: border-box;padding-bottom: 0.4em;background-color: white;}#sk-container-id-8 div.sk-label label {font-family: monospace;font-weight: bold;display: inline-block;line-height: 1.2em;}#sk-container-id-8 div.sk-label-container {text-align: center;}#sk-container-id-8 div.sk-container {/* jupyter's `normalize.less` sets `[hidden] { display: none; }` but bootstrap.min.css set `[hidden] { display: none !important; }` so we also need the `!important` here to be able to override the default hidden behavior on the sphinx rendered scikit-learn.org. See: https://github.com/scikit-learn/scikit-learn/issues/21755 */display: inline-block !important;position: relative;}#sk-container-id-8 div.sk-text-repr-fallback {display: none;}</style><div id=\"sk-container-id-8\" class=\"sk-top-container\"><div class=\"sk-text-repr-fallback\"><pre>GradientBoostingRegressor(learning_rate=1.0, max_depth=20, n_estimators=500)</pre><b>In a Jupyter environment, please rerun this cell to show the HTML representation or trust the notebook. <br />On GitHub, the HTML representation is unable to render, please try loading this page with nbviewer.org.</b></div><div class=\"sk-container\" hidden><div class=\"sk-item\"><div class=\"sk-estimator sk-toggleable\"><input class=\"sk-toggleable__control sk-hidden--visually\" id=\"sk-estimator-id-8\" type=\"checkbox\" checked><label for=\"sk-estimator-id-8\" class=\"sk-toggleable__label sk-toggleable__label-arrow\">GradientBoostingRegressor</label><div class=\"sk-toggleable__content\"><pre>GradientBoostingRegressor(learning_rate=1.0, max_depth=20, n_estimators=500)</pre></div></div></div></div></div>"
      ],
      "text/plain": [
       "GradientBoostingRegressor(learning_rate=1.0, max_depth=20, n_estimators=500)"
      ]
     },
     "execution_count": 172,
     "metadata": {},
     "output_type": "execute_result"
    }
   ],
   "source": [
    "gbrt = GradientBoostingRegressor(max_depth=20, n_estimators=500, learning_rate=1.0)\n",
    "gbrt.fit(X_train, y_train)"
   ]
  },
  {
   "cell_type": "code",
   "execution_count": 173,
   "metadata": {},
   "outputs": [],
   "source": [
    "y_pred_gbrt= gbrt.predict(X_test)"
   ]
  },
  {
   "cell_type": "code",
   "execution_count": 174,
   "metadata": {},
   "outputs": [
    {
     "name": "stdout",
     "output_type": "stream",
     "text": [
      "MSE: 0.404\n",
      "RMSE: 0.636\n",
      "R^2: 0.338\n",
      "Adjusted R^2: 0.304\n"
     ]
    }
   ],
   "source": [
    "mse_gbrt = mean_squared_error(y_test, y_pred_gbrt)\n",
    "print(f\"MSE: {mse_gbrt:.3f}\")\n",
    "rmse_gbrt = np.sqrt(mse_gbrt)\n",
    "print(f\"RMSE: {rmse_gbrt:.3f}\")\n",
    "r_2 = r2_score(y_test, y_pred_gbrt)\n",
    "print(f\"R^2: {r_2:.3f}\")\n",
    "\n",
    "p = X_train.shape[1]\n",
    "n = len(y_test)  # Number of samples\n",
    "adjusted_r2_gbrt = 1 - (1 - r_2) * (n - 1) / (n - p - 1)\n",
    "print(f\"Adjusted R^2: {adjusted_r2_gbrt:.3f}\")"
   ]
  },
  {
   "cell_type": "markdown",
   "metadata": {},
   "source": [
    "## GridSearch - Tuning  -- It will take a long time to run (800 min to run)"
   ]
  },
  {
   "cell_type": "code",
   "execution_count": 200,
   "metadata": {},
   "outputs": [
    {
     "name": "stdout",
     "output_type": "stream",
     "text": [
      "Best Hyperparameters for RandomForestRegressor: {'classifier__max_depth': 30, 'classifier__min_samples_leaf': 1, 'classifier__min_samples_split': 2, 'classifier__n_estimators': 500}\n",
      "Best Hyperparameters for KNeighborsRegressor: {'classifier__n_neighbors': 20, 'classifier__p': 1, 'classifier__weights': 'distance'}\n",
      "Best Hyperparameters for GradientBoostingRegressor: {'classifier__learning_rate': 0.2, 'classifier__max_depth': 5, 'classifier__min_samples_leaf': 4, 'classifier__min_samples_split': 10, 'classifier__n_estimators': 500}\n",
      "Best Hyperparameters for ExtraTreesRegressor: {'classifier__max_depth': None, 'classifier__min_samples_leaf': 1, 'classifier__min_samples_split': 2, 'classifier__n_estimators': 500}\n"
     ]
    }
   ],
   "source": [
    "# Define your regression estimators with specified random states\n",
    "clf_rf = RandomForestRegressor(random_state=42)\n",
    "clf_knn = KNeighborsRegressor()\n",
    "clf_gb = GradientBoostingRegressor(random_state=42)\n",
    "clf_et = ExtraTreesRegressor(random_state=42)\n",
    "\n",
    "# Define hyperparameters for each estimator separately\n",
    "param_grid_rf = {\n",
    "    'classifier__n_estimators': [100, 300, 500],\n",
    "    'classifier__max_depth': [10, 20, 30],\n",
    "    'classifier__min_samples_split': [2, 5, 10],\n",
    "    'classifier__min_samples_leaf': [1, 2, 4]\n",
    "}\n",
    "\n",
    "param_grid_knn = {\n",
    "    'classifier__n_neighbors': [5, 10, 15, 20, 50],\n",
    "    'classifier__weights': ['uniform', 'distance'],\n",
    "    'classifier__p': [1, 2]\n",
    "}\n",
    "\n",
    "param_grid_gb = {\n",
    "    'classifier__n_estimators': [100, 300, 500],\n",
    "    'classifier__learning_rate': [0.01, 0.1, 0.2],\n",
    "    'classifier__max_depth': [3, 4, 5],\n",
    "    'classifier__min_samples_split': [2, 5, 10],\n",
    "    'classifier__min_samples_leaf': [1, 2, 4]\n",
    "}\n",
    "\n",
    "param_grid_et = {\n",
    "    'classifier__n_estimators': [100, 300, 500],\n",
    "    'classifier__max_depth': [None, 10, 20, 30],\n",
    "    'classifier__min_samples_split': [2, 5, 10],\n",
    "    'classifier__min_samples_leaf': [1, 2, 4]\n",
    "}\n",
    "\n",
    "# Create a dictionary that maps each estimator to its corresponding parameter grid\n",
    "param_grids = {\n",
    "    clf_rf: param_grid_rf,\n",
    "    clf_knn: param_grid_knn,\n",
    "    clf_gb: param_grid_gb,\n",
    "    clf_et: param_grid_et\n",
    "}\n",
    "\n",
    "# Initialize and train the grid search model for each estimator\n",
    "best_params = {}\n",
    "\n",
    "for estimator, param_grid in param_grids.items():\n",
    "    pipeline = Pipeline([('classifier', estimator)])\n",
    "    gs = GridSearchCV(pipeline, param_grid, cv=3, n_jobs=-1, scoring='neg_root_mean_squared_error').fit(X_train, y_train)\n",
    "    best_params[estimator.__class__.__name__] = gs.best_params_\n",
    "\n",
    "# Best performing model and its corresponding hyperparameters for each estimator\n",
    "for estimator_name, params in best_params.items():\n",
    "    print(f\"Best Hyperparameters for {estimator_name}: {params}\")\n"
   ]
  },
  {
   "cell_type": "markdown",
   "metadata": {},
   "source": [
    "# Stacking Regressor"
   ]
  },
  {
   "cell_type": "code",
   "execution_count": 52,
   "metadata": {},
   "outputs": [
    {
     "ename": "KeyboardInterrupt",
     "evalue": "",
     "output_type": "error",
     "traceback": [
      "\u001b[0;31m---------------------------------------------------------------------------\u001b[0m",
      "\u001b[0;31mKeyboardInterrupt\u001b[0m                         Traceback (most recent call last)",
      "\u001b[1;32m/Users/burakbedir/Desktop/B/Spiced/Urban-Air-Pollution-Challenge/pollution_eda.ipynb Cell 87\u001b[0m line \u001b[0;36m2\n\u001b[1;32m     <a href='vscode-notebook-cell:/Users/burakbedir/Desktop/B/Spiced/Urban-Air-Pollution-Challenge/pollution_eda.ipynb#Y154sZmlsZQ%3D%3D?line=17'>18</a>\u001b[0m stacking_regressor \u001b[39m=\u001b[39m StackingRegressor(estimators\u001b[39m=\u001b[39mbase_regressors, final_estimator\u001b[39m=\u001b[39mfinal_estimator, n_jobs\u001b[39m=\u001b[39m\u001b[39m-\u001b[39m\u001b[39m1\u001b[39m)\n\u001b[1;32m     <a href='vscode-notebook-cell:/Users/burakbedir/Desktop/B/Spiced/Urban-Air-Pollution-Challenge/pollution_eda.ipynb#Y154sZmlsZQ%3D%3D?line=19'>20</a>\u001b[0m \u001b[39m# Train the stacking regressor on the training data\u001b[39;00m\n\u001b[0;32m---> <a href='vscode-notebook-cell:/Users/burakbedir/Desktop/B/Spiced/Urban-Air-Pollution-Challenge/pollution_eda.ipynb#Y154sZmlsZQ%3D%3D?line=20'>21</a>\u001b[0m stacking_regressor\u001b[39m.\u001b[39;49mfit(X_train, y_train)\n\u001b[1;32m     <a href='vscode-notebook-cell:/Users/burakbedir/Desktop/B/Spiced/Urban-Air-Pollution-Challenge/pollution_eda.ipynb#Y154sZmlsZQ%3D%3D?line=22'>23</a>\u001b[0m \u001b[39m# Make predictions on the test data\u001b[39;00m\n\u001b[1;32m     <a href='vscode-notebook-cell:/Users/burakbedir/Desktop/B/Spiced/Urban-Air-Pollution-Challenge/pollution_eda.ipynb#Y154sZmlsZQ%3D%3D?line=23'>24</a>\u001b[0m y_pred_stacking \u001b[39m=\u001b[39m stacking_regressor\u001b[39m.\u001b[39mpredict(X_test)\n",
      "File \u001b[0;32m~/Desktop/B/Spiced/Urban-Air-Pollution-Challenge/.venv/lib/python3.11/site-packages/sklearn/ensemble/_stacking.py:958\u001b[0m, in \u001b[0;36mStackingRegressor.fit\u001b[0;34m(self, X, y, sample_weight)\u001b[0m\n\u001b[1;32m    936\u001b[0m \u001b[39m\u001b[39m\u001b[39m\"\"\"Fit the estimators.\u001b[39;00m\n\u001b[1;32m    937\u001b[0m \n\u001b[1;32m    938\u001b[0m \u001b[39mParameters\u001b[39;00m\n\u001b[0;32m   (...)\u001b[0m\n\u001b[1;32m    955\u001b[0m \u001b[39m    Returns a fitted instance.\u001b[39;00m\n\u001b[1;32m    956\u001b[0m \u001b[39m\"\"\"\u001b[39;00m\n\u001b[1;32m    957\u001b[0m y \u001b[39m=\u001b[39m column_or_1d(y, warn\u001b[39m=\u001b[39m\u001b[39mTrue\u001b[39;00m)\n\u001b[0;32m--> 958\u001b[0m \u001b[39mreturn\u001b[39;00m \u001b[39msuper\u001b[39;49m()\u001b[39m.\u001b[39;49mfit(X, y, sample_weight)\n",
      "File \u001b[0;32m~/Desktop/B/Spiced/Urban-Air-Pollution-Challenge/.venv/lib/python3.11/site-packages/sklearn/ensemble/_stacking.py:252\u001b[0m, in \u001b[0;36m_BaseStacking.fit\u001b[0;34m(self, X, y, sample_weight)\u001b[0m\n\u001b[1;32m    247\u001b[0m         cv\u001b[39m.\u001b[39mrandom_state \u001b[39m=\u001b[39m np\u001b[39m.\u001b[39mrandom\u001b[39m.\u001b[39mRandomState()\n\u001b[1;32m    249\u001b[0m     fit_params \u001b[39m=\u001b[39m (\n\u001b[1;32m    250\u001b[0m         {\u001b[39m\"\u001b[39m\u001b[39msample_weight\u001b[39m\u001b[39m\"\u001b[39m: sample_weight} \u001b[39mif\u001b[39;00m sample_weight \u001b[39mis\u001b[39;00m \u001b[39mnot\u001b[39;00m \u001b[39mNone\u001b[39;00m \u001b[39melse\u001b[39;00m \u001b[39mNone\u001b[39;00m\n\u001b[1;32m    251\u001b[0m     )\n\u001b[0;32m--> 252\u001b[0m     predictions \u001b[39m=\u001b[39m Parallel(n_jobs\u001b[39m=\u001b[39;49m\u001b[39mself\u001b[39;49m\u001b[39m.\u001b[39;49mn_jobs)(\n\u001b[1;32m    253\u001b[0m         delayed(cross_val_predict)(\n\u001b[1;32m    254\u001b[0m             clone(est),\n\u001b[1;32m    255\u001b[0m             X,\n\u001b[1;32m    256\u001b[0m             y,\n\u001b[1;32m    257\u001b[0m             cv\u001b[39m=\u001b[39;49mdeepcopy(cv),\n\u001b[1;32m    258\u001b[0m             method\u001b[39m=\u001b[39;49mmeth,\n\u001b[1;32m    259\u001b[0m             n_jobs\u001b[39m=\u001b[39;49m\u001b[39mself\u001b[39;49m\u001b[39m.\u001b[39;49mn_jobs,\n\u001b[1;32m    260\u001b[0m             fit_params\u001b[39m=\u001b[39;49mfit_params,\n\u001b[1;32m    261\u001b[0m             verbose\u001b[39m=\u001b[39;49m\u001b[39mself\u001b[39;49m\u001b[39m.\u001b[39;49mverbose,\n\u001b[1;32m    262\u001b[0m         )\n\u001b[1;32m    263\u001b[0m         \u001b[39mfor\u001b[39;49;00m est, meth \u001b[39min\u001b[39;49;00m \u001b[39mzip\u001b[39;49m(all_estimators, \u001b[39mself\u001b[39;49m\u001b[39m.\u001b[39;49mstack_method_)\n\u001b[1;32m    264\u001b[0m         \u001b[39mif\u001b[39;49;00m est \u001b[39m!=\u001b[39;49m \u001b[39m\"\u001b[39;49m\u001b[39mdrop\u001b[39;49m\u001b[39m\"\u001b[39;49m\n\u001b[1;32m    265\u001b[0m     )\n\u001b[1;32m    267\u001b[0m \u001b[39m# Only not None or not 'drop' estimators will be used in transform.\u001b[39;00m\n\u001b[1;32m    268\u001b[0m \u001b[39m# Remove the None from the method as well.\u001b[39;00m\n\u001b[1;32m    269\u001b[0m \u001b[39mself\u001b[39m\u001b[39m.\u001b[39mstack_method_ \u001b[39m=\u001b[39m [\n\u001b[1;32m    270\u001b[0m     meth\n\u001b[1;32m    271\u001b[0m     \u001b[39mfor\u001b[39;00m (meth, est) \u001b[39min\u001b[39;00m \u001b[39mzip\u001b[39m(\u001b[39mself\u001b[39m\u001b[39m.\u001b[39mstack_method_, all_estimators)\n\u001b[1;32m    272\u001b[0m     \u001b[39mif\u001b[39;00m est \u001b[39m!=\u001b[39m \u001b[39m\"\u001b[39m\u001b[39mdrop\u001b[39m\u001b[39m\"\u001b[39m\n\u001b[1;32m    273\u001b[0m ]\n",
      "File \u001b[0;32m~/Desktop/B/Spiced/Urban-Air-Pollution-Challenge/.venv/lib/python3.11/site-packages/sklearn/utils/parallel.py:63\u001b[0m, in \u001b[0;36mParallel.__call__\u001b[0;34m(self, iterable)\u001b[0m\n\u001b[1;32m     58\u001b[0m config \u001b[39m=\u001b[39m get_config()\n\u001b[1;32m     59\u001b[0m iterable_with_config \u001b[39m=\u001b[39m (\n\u001b[1;32m     60\u001b[0m     (_with_config(delayed_func, config), args, kwargs)\n\u001b[1;32m     61\u001b[0m     \u001b[39mfor\u001b[39;00m delayed_func, args, kwargs \u001b[39min\u001b[39;00m iterable\n\u001b[1;32m     62\u001b[0m )\n\u001b[0;32m---> 63\u001b[0m \u001b[39mreturn\u001b[39;00m \u001b[39msuper\u001b[39;49m()\u001b[39m.\u001b[39;49m\u001b[39m__call__\u001b[39;49m(iterable_with_config)\n",
      "File \u001b[0;32m~/Desktop/B/Spiced/Urban-Air-Pollution-Challenge/.venv/lib/python3.11/site-packages/joblib/parallel.py:1952\u001b[0m, in \u001b[0;36mParallel.__call__\u001b[0;34m(self, iterable)\u001b[0m\n\u001b[1;32m   1946\u001b[0m \u001b[39m# The first item from the output is blank, but it makes the interpreter\u001b[39;00m\n\u001b[1;32m   1947\u001b[0m \u001b[39m# progress until it enters the Try/Except block of the generator and\u001b[39;00m\n\u001b[1;32m   1948\u001b[0m \u001b[39m# reach the first `yield` statement. This starts the aynchronous\u001b[39;00m\n\u001b[1;32m   1949\u001b[0m \u001b[39m# dispatch of the tasks to the workers.\u001b[39;00m\n\u001b[1;32m   1950\u001b[0m \u001b[39mnext\u001b[39m(output)\n\u001b[0;32m-> 1952\u001b[0m \u001b[39mreturn\u001b[39;00m output \u001b[39mif\u001b[39;00m \u001b[39mself\u001b[39m\u001b[39m.\u001b[39mreturn_generator \u001b[39melse\u001b[39;00m \u001b[39mlist\u001b[39;49m(output)\n",
      "File \u001b[0;32m~/Desktop/B/Spiced/Urban-Air-Pollution-Challenge/.venv/lib/python3.11/site-packages/joblib/parallel.py:1595\u001b[0m, in \u001b[0;36mParallel._get_outputs\u001b[0;34m(self, iterator, pre_dispatch)\u001b[0m\n\u001b[1;32m   1592\u001b[0m     \u001b[39myield\u001b[39;00m\n\u001b[1;32m   1594\u001b[0m     \u001b[39mwith\u001b[39;00m \u001b[39mself\u001b[39m\u001b[39m.\u001b[39m_backend\u001b[39m.\u001b[39mretrieval_context():\n\u001b[0;32m-> 1595\u001b[0m         \u001b[39myield from\u001b[39;00m \u001b[39mself\u001b[39m\u001b[39m.\u001b[39m_retrieve()\n\u001b[1;32m   1597\u001b[0m \u001b[39mexcept\u001b[39;00m \u001b[39mGeneratorExit\u001b[39;00m:\n\u001b[1;32m   1598\u001b[0m     \u001b[39m# The generator has been garbage collected before being fully\u001b[39;00m\n\u001b[1;32m   1599\u001b[0m     \u001b[39m# consumed. This aborts the remaining tasks if possible and warn\u001b[39;00m\n\u001b[1;32m   1600\u001b[0m     \u001b[39m# the user if necessary.\u001b[39;00m\n\u001b[1;32m   1601\u001b[0m     \u001b[39mself\u001b[39m\u001b[39m.\u001b[39m_exception \u001b[39m=\u001b[39m \u001b[39mTrue\u001b[39;00m\n",
      "File \u001b[0;32m~/Desktop/B/Spiced/Urban-Air-Pollution-Challenge/.venv/lib/python3.11/site-packages/joblib/parallel.py:1707\u001b[0m, in \u001b[0;36mParallel._retrieve\u001b[0;34m(self)\u001b[0m\n\u001b[1;32m   1702\u001b[0m \u001b[39m# If the next job is not ready for retrieval yet, we just wait for\u001b[39;00m\n\u001b[1;32m   1703\u001b[0m \u001b[39m# async callbacks to progress.\u001b[39;00m\n\u001b[1;32m   1704\u001b[0m \u001b[39mif\u001b[39;00m ((\u001b[39mlen\u001b[39m(\u001b[39mself\u001b[39m\u001b[39m.\u001b[39m_jobs) \u001b[39m==\u001b[39m \u001b[39m0\u001b[39m) \u001b[39mor\u001b[39;00m\n\u001b[1;32m   1705\u001b[0m     (\u001b[39mself\u001b[39m\u001b[39m.\u001b[39m_jobs[\u001b[39m0\u001b[39m]\u001b[39m.\u001b[39mget_status(\n\u001b[1;32m   1706\u001b[0m         timeout\u001b[39m=\u001b[39m\u001b[39mself\u001b[39m\u001b[39m.\u001b[39mtimeout) \u001b[39m==\u001b[39m TASK_PENDING)):\n\u001b[0;32m-> 1707\u001b[0m     time\u001b[39m.\u001b[39msleep(\u001b[39m0.01\u001b[39m)\n\u001b[1;32m   1708\u001b[0m     \u001b[39mcontinue\u001b[39;00m\n\u001b[1;32m   1710\u001b[0m \u001b[39m# We need to be careful: the job list can be filling up as\u001b[39;00m\n\u001b[1;32m   1711\u001b[0m \u001b[39m# we empty it and Python list are not thread-safe by\u001b[39;00m\n\u001b[1;32m   1712\u001b[0m \u001b[39m# default hence the use of the lock\u001b[39;00m\n",
      "\u001b[0;31mKeyboardInterrupt\u001b[0m: "
     ]
    }
   ],
   "source": [
    "# We take the best models from our gridsearch exercise\n",
    "rf_regressor = RandomForestRegressor(n_estimators=500, max_depth=30, min_samples_split=2, random_state=42)\n",
    "knn_regressor = KNeighborsRegressor(n_neighbors=20, p=1, weights='distance')\n",
    "gb_regressor = GradientBoostingRegressor(n_estimators=500, learning_rate=0.2, max_depth=5, min_samples_leaf=4, min_samples_split=10, random_state=42)\n",
    "et_regressor = ExtraTreesRegressor(n_estimators=500, max_depth=None, min_samples_leaf=1, min_samples_split=2, random_state=42)\n",
    "\n",
    "# A list of tuples with the regressor name and the model\n",
    "base_regressors = [\n",
    "    ('RandomForest', rf_regressor),\n",
    "    ('KNeighbors', knn_regressor),\n",
    "    ('GradientBoosting', gb_regressor),\n",
    "    ('ExtraTrees', et_regressor)\n",
    "]\n",
    "\n",
    "# StackingRegressor with a linear regression as the final estimator\n",
    "final_estimator = LinearRegression()\n",
    "\n",
    "stacking_regressor = StackingRegressor(estimators=base_regressors, final_estimator=final_estimator, n_jobs=-1)\n",
    "\n",
    "# Train the stacking regressor on the training data\n",
    "stacking_regressor.fit(X_train, y_train)\n",
    "\n",
    "# Make predictions on the test data\n",
    "y_pred_stacking = stacking_regressor.predict(X_test)\n",
    "\n",
    "# Evaluate the stacking regressor\n",
    "mse_stacking = mean_squared_error(y_test, y_pred_stacking)\n",
    "print(f\"Mean Squared Error: {mse_stacking}\")\n",
    "\n",
    "rmse_stacking = np.sqrt(mse_stacking)\n",
    "print(f\"RMSE: {rmse_stacking:.3f}\")\n",
    "r_2_stacking = r2_score(y_test, y_pred_stacking)\n",
    "print(f\"R^2: {r_2_stacking:.3f}\")\n",
    "\n",
    "p = X_train.shape[1]\n",
    "n = len(y_test)  \n",
    "adjusted_r2_stacking = 1 - (1 - r_2_stacking) * (n - 1) / (n - p - 1)\n",
    "print(f\"Adjusted R^2: {adjusted_r2_stacking:.3f}\")"
   ]
  },
  {
   "cell_type": "code",
   "execution_count": null,
   "metadata": {},
   "outputs": [],
   "source": [
    "r_2_stacking_train = r2_score(y_train, stacking_regressor.predict(X_train))\n",
    "print(f\"R^2_train: {r_2_stacking_train:.3f}\")"
   ]
  },
  {
   "cell_type": "code",
   "execution_count": null,
   "metadata": {},
   "outputs": [],
   "source": [
    "# Check if the final estimator is a Linear Regression model\n",
    "final_estimator_1 = stacking_regressor.final_estimator_\n",
    "if isinstance(final_estimator, LinearRegression):\n",
    "    # Get the coefficients (weights) assigned to each base model's prediction\n",
    "    coefficients = final_estimator.coef_\n",
    "    \n",
    "    # Create a list of base model names\n",
    "    base_model_names = [model[0] for model in base_regressors]\n",
    "    \n",
    "    # Create a dictionary mapping base model names to their coefficients\n",
    "    model_coefficients = dict(zip(base_model_names, coefficients))\n",
    "    \n",
    "    # Display the coefficients (weights) along with base model names\n",
    "    print(\"Final Linear Regression Model Coefficients (Weights):\")\n",
    "    for model_name, coefficient in model_coefficients.items():\n",
    "        print(f\"Base Model: {model_name}, Coefficient (Weight): {coefficient:.4f}\")\n",
    "else:\n",
    "    print(\"Final estimator is not a Linear Regression model.\")\n"
   ]
  },
  {
   "cell_type": "code",
   "execution_count": null,
   "metadata": {},
   "outputs": [],
   "source": [
    "plt.style.use('fivethirtyeight')\n",
    "plt.gca().set_facecolor('lightgray')\n",
    "plt.style.use('seaborn')\n",
    "plt.grid(True, linestyle='--', alpha=0.2, color='gray')\n",
    " \n",
    "# plotting residual errors in training data\n",
    "plt.scatter(stacking_regressor.predict(X_train),\n",
    "            stacking_regressor.predict(X_train) - y_train,\n",
    "            color=\"red\", s=10)\n",
    " \n",
    "plt.hlines(y=0, xmin=0, xmax=8, linewidth=2)\n",
    "plt.ylim(-3, 4) \n",
    "plt.legend(loc='upper right')\n",
    "plt.title(\"In-sample residual errors - stacking regressor\")\n",
    "plt.show()"
   ]
  },
  {
   "cell_type": "code",
   "execution_count": null,
   "metadata": {},
   "outputs": [],
   "source": [
    "plt.style.use('fivethirtyeight')\n",
    "plt.gca().set_facecolor('lightgray')\n",
    "plt.style.use('seaborn')\n",
    "plt.grid(True, linestyle='--', alpha=0.2, color='gray')\n",
    " \n",
    "# plotting residual errors in training data\n",
    "plt.scatter(stacking_regressor.predict(X_test),\n",
    "            stacking_regressor.predict(X_test) - y_test,\n",
    "            color=\"red\", s=10)\n",
    " \n",
    "plt.hlines(y=0, xmin=0, xmax=8, linewidth=2)\n",
    "plt.ylim(-3, 4) \n",
    "plt.legend(loc='upper right')\n",
    "plt.title(\"Out-of-sample residual errors - stacking regressor\")\n",
    "plt.show()"
   ]
  },
  {
   "cell_type": "markdown",
   "metadata": {},
   "source": [
    "# Low Performance ExtraTrees\n",
    "\n",
    "#### Hyperparameters: max_depth: 5 min_samples_split: 2 min_samples_leaf: 5"
   ]
  },
  {
   "cell_type": "code",
   "execution_count": null,
   "metadata": {},
   "outputs": [],
   "source": [
    "# We substitute ExtraTreesRegression with the one with lower performance\n",
    "rf_regressor = RandomForestRegressor(n_estimators=500, max_depth=30, min_samples_split=2, random_state=42)\n",
    "knn_regressor = KNeighborsRegressor(n_neighbors=20, p=1, weights='distance')\n",
    "gb_regressor = GradientBoostingRegressor(n_estimators=500, learning_rate=0.2, max_depth=5, min_samples_leaf=4, min_samples_split=10, random_state=42)\n",
    "et_regressor = ExtraTreesRegressor(n_estimators=500, max_depth=5, min_samples_leaf=5, min_samples_split=2, random_state=42)\n",
    "\n",
    "base_regressors_lp = [\n",
    "    ('RandomForest', rf_regressor),\n",
    "    ('KNeighbors', knn_regressor),\n",
    "    ('GradientBoosting', gb_regressor),\n",
    "    ('ExtraTrees', et_regressor)\n",
    "]\n",
    "\n",
    "final_estimator_lp = LinearRegression()\n",
    "\n",
    "stacking_regressor_lp = StackingRegressor(estimators=base_regressors_lp, final_estimator=final_estimator_lp, n_jobs=-1)\n",
    "\n",
    "stacking_regressor_lp.fit(X_train, y_train)\n",
    "\n",
    "y_pred_stacking_lp = stacking_regressor_lp.predict(X_test)\n",
    "y_pred_stacking_lp_train = stacking_regressor_lp.predict(X_train)\n",
    "\n",
    "\n",
    "mse_stacking_lp = mean_squared_error(y_test, y_pred_stacking_lp)\n",
    "rmse_stacking_lp = np.sqrt(mse_stacking_lp)\n",
    "r_2_stacking_lp = r2_score(y_test, y_pred_stacking_lp)\n",
    "\n",
    "\n",
    "mse_stacking_lp_train = mean_squared_error(y_train, y_pred_stacking_lp_train)\n",
    "rmse_stacking_lp_train = np.sqrt(mse_stacking_lp_train)\n",
    "r_2_stacking_lp_train = r2_score(y_train, y_pred_stacking_lp_train)\n",
    "\n",
    "\n",
    "p_test = X_test.shape[1]\n",
    "n_test = len(y_test)\n",
    "adjusted_r2_stacking_lp = 1 - (1 - r_2_stacking_lp) * (n_test - 1) / (n_test - p_test - 1)\n",
    "\n",
    "p_train = X_train.shape[1]\n",
    "n_train = len(y_train)\n",
    "adjusted_r2_stacking_lp_train = 1 - (1 - r_2_stacking_lp_train) * (n_train - 1) / (n_train - p_train - 1)\n",
    "\n",
    "\n",
    "print(\"Test RMSE:\", rmse_stacking_lp)\n",
    "print(\"Test R^2:\", r_2_stacking_lp)\n",
    "print(\"Adjusted R^2 (Test):\", adjusted_r2_stacking_lp)\n",
    "\n",
    "print(\"Train RMSE:\", rmse_stacking_lp_train)\n",
    "print(\"Train R^2:\", r_2_stacking_lp_train)\n",
    "print(\"Adjusted R^2 (Train):\", adjusted_r2_stacking_lp_train)\n"
   ]
  },
  {
   "cell_type": "code",
   "execution_count": null,
   "metadata": {},
   "outputs": [],
   "source": [
    "plt.style.use('fivethirtyeight')\n",
    "plt.gca().set_facecolor('lightgray')\n",
    "plt.style.use('seaborn')\n",
    "plt.grid(True, linestyle='--', alpha=0.2, color='gray')\n",
    " \n",
    "# plotting residual errors in training data\n",
    "plt.scatter(stacking_regressor_lp.predict(X_train),\n",
    "            stacking_regressor_lp.predict(X_train) - y_train,\n",
    "            color=\"red\", s=10)\n",
    " \n",
    "plt.hlines(y=0, xmin=0, xmax=8, linewidth=2)\n",
    "plt.ylim(-3, 4) \n",
    "plt.legend(loc='upper right')\n",
    "plt.title(\"In-sample residual errors - stacking regressor with low-performing ETR\")\n",
    "plt.show()"
   ]
  },
  {
   "cell_type": "code",
   "execution_count": null,
   "metadata": {},
   "outputs": [],
   "source": [
    "plt.style.use('fivethirtyeight')\n",
    "plt.gca().set_facecolor('lightgray')\n",
    "plt.style.use('seaborn')\n",
    "plt.grid(True, linestyle='--', alpha=0.2, color='gray')\n",
    " \n",
    "# plotting residual errors in training data\n",
    "plt.scatter(stacking_regressor_lp.predict(X_test),\n",
    "            stacking_regressor_lp.predict(X_test) - y_test,\n",
    "            color=\"red\", s=10)\n",
    " \n",
    "plt.hlines(y=0, xmin=0, xmax=8, linewidth=2)\n",
    "plt.ylim(-3, 4) \n",
    "plt.legend(loc='upper right')\n",
    "plt.title(\"Out-of-sample residual errors - stacking regressor with low-performing ETR\")\n",
    "plt.show()"
   ]
  },
  {
   "cell_type": "markdown",
   "metadata": {},
   "source": [
    "## Stacking regressor with cross validation"
   ]
  },
  {
   "cell_type": "code",
   "execution_count": null,
   "metadata": {},
   "outputs": [],
   "source": [
    "# We do cross-validation for our stacking regressor. Combine train and test data and run cross-validation exercise\n",
    "X_cv = np.vstack((X_train, X_test))\n",
    "y_cv = np.concatenate((y_train, y_test))\n",
    "\n",
    "# Perform cross-validation\n",
    "cv_scores = cross_val_score(stacking_regressor, X_cv, y_cv, cv=5, scoring='neg_mean_squared_error')\n",
    "\n",
    "# Convert the negative MSE scores to positive RMSE scores\n",
    "rmse_scores = np.sqrt(-cv_scores)\n",
    "\n",
    "# Print the cross-validation results\n",
    "print(\"Cross-Validation RMSE Scores:\", rmse_scores)\n",
    "print(\"Mean RMSE:\", rmse_scores.mean())\n",
    "print(\"Standard Deviation of RMSE:\", rmse_scores.std())\n",
    "\n",
    "# it took 200 minutes"
   ]
  },
  {
   "cell_type": "code",
   "execution_count": null,
   "metadata": {},
   "outputs": [],
   "source": [
    "\n",
    "fold_numbers = list(range(1, len(rmse_scores) + 1))\n",
    "\n",
    "# Use a color-blind-friendly palette from Seaborn\n",
    "palette = sns.color_palette(\"colorblind\")\n",
    "\n",
    "# Create a bar plot for RMSE scores with color-blind-friendly colors\n",
    "plt.figure(figsize=(10, 6))\n",
    "plt.bar(fold_numbers, rmse_scores, color=palette[0], edgecolor='black')\n",
    "plt.axhline(y=rmse_scores.mean(), color=palette[1], linestyle='--', label='Average RMSE')\n",
    "\n",
    "# Adding labels and title\n",
    "plt.xlabel('Fold Number')\n",
    "plt.ylabel('RMSE')\n",
    "plt.title('Cross-Validation RMSE Scores')\n",
    "plt.legend()\n",
    "\n",
    "# Display the plot\n",
    "plt.show()"
   ]
  },
  {
   "cell_type": "markdown",
   "metadata": {},
   "source": [
    "## Stacking Regressor with Ridge Regressor as Aggregator of Base Models"
   ]
  },
  {
   "cell_type": "code",
   "execution_count": null,
   "metadata": {},
   "outputs": [],
   "source": [
    "# Ridge regressor as an aggregator\n",
    "\n",
    "rf_regressor = RandomForestRegressor(n_estimators=500, max_depth=30, min_samples_split=2, random_state=42)\n",
    "knn_regressor = KNeighborsRegressor(n_neighbors=20, p=1, weights='distance')\n",
    "gb_regressor = GradientBoostingRegressor(n_estimators=500, learning_rate=0.2, max_depth=5, min_samples_leaf=4, min_samples_split=10, random_state=42)\n",
    "et_regressor = ExtraTreesRegressor(n_estimators=500, max_depth=None, min_samples_leaf=1, min_samples_split=2, random_state=42)\n",
    "\n",
    "# A list of tuples with the regressor name and the model\n",
    "base_regressors_ridge = [\n",
    "    ('RandomForest', rf_regressor),\n",
    "    ('KNeighbors', knn_regressor),\n",
    "    ('GradientBoosting', gb_regressor),\n",
    "    ('ExtraTrees', et_regressor)\n",
    "]\n",
    "\n",
    "# Create the stacking regressor with Ridge Regression as the final estimator\n",
    "final_estimator_ridge = Ridge(alpha=0.5)  # You can adjust the alpha parameter as needed\n",
    "\n",
    "stacking_regressor_ridge = StackingRegressor(estimators=base_regressors_ridge, final_estimator=final_estimator_ridge, n_jobs=-1)\n",
    "\n",
    "# Train the stacking regressor on the training data\n",
    "stacking_regressor_ridge.fit(X_train, y_train)\n",
    "\n",
    "# Make predictions on the test data\n",
    "y_pred_stacking_ridge = stacking_regressor_ridge.predict(X_test)\n",
    "\n",
    "# Evaluate the stacking regressor\n",
    "mse_stacking_ridge = mean_squared_error(y_test, y_pred_stacking_ridge)\n",
    "print(f\"Mean Squared Error: {mse_stacking_ridge}\")\n",
    "\n",
    "rmse_stacking_ridge = np.sqrt(mse_stacking_ridge)\n",
    "print(f\"RMSE: {rmse_stacking_ridge:.3f}\")\n",
    "r_2_stacking_ridge = r2_score(y_test, y_pred_stacking_ridge)\n",
    "print(f\"R^2: {r_2_stacking_ridge:.3f}\")\n",
    "\n",
    "p = X_test.shape[1]\n",
    "n = len(y_test)  \n",
    "adjusted_r2_stacking_ridge = 1 - (1 - r_2_stacking_ridge) * (n - 1) / (n - p - 1)\n",
    "print(f\"Adjusted R^2: {adjusted_r2_stacking_ridge:.3f}\")\n"
   ]
  },
  {
   "cell_type": "markdown",
   "metadata": {},
   "source": [
    "## Linear Regressor Instead RandomForestRegressor"
   ]
  },
  {
   "cell_type": "code",
   "execution_count": null,
   "metadata": {},
   "outputs": [],
   "source": [
    "# As we have ExtraTreesRegressor, let's check what happens if we put our base-line models instead of RandomForestRegressor\n",
    "linear_regressor = LinearRegression()\n",
    "knn_regressor = KNeighborsRegressor(n_neighbors=20, p=1, weights='distance')\n",
    "gb_regressor = GradientBoostingRegressor(n_estimators=500, learning_rate=0.2, max_depth=5, min_samples_leaf=4, min_samples_split=10, random_state=42)\n",
    "et_regressor = ExtraTreesRegressor(n_estimators=500, max_depth=None, min_samples_leaf=1, min_samples_split=2, random_state=42)\n",
    "\n",
    "# A list of tuples with the model name and the model\n",
    "base_regressors_1 = [\n",
    "    ('LinearRegression', linear_regressor),\n",
    "    ('KNeighbors', knn_regressor),\n",
    "    ('GradientBoosting', gb_regressor),\n",
    "    ('ExtraTrees', et_regressor)\n",
    "]\n",
    "\n",
    "# Create the StackingRegressor with Linear Regression as the final estimator\n",
    "final_estimator_1 = LinearRegression()\n",
    "stacking_regressor_1 = StackingRegressor(estimators=base_regressors_1, final_estimator=final_estimator_1, n_jobs=-1)\n",
    "\n",
    "# Train the stacking regressor on the training data\n",
    "stacking_regressor_1.fit(X_train, y_train)\n",
    "\n",
    "# Make predictions on the test data using stacking_regressor_1\n",
    "y_pred_stacking_1 = stacking_regressor_1.predict(X_test)\n",
    "\n",
    "# Evaluate the stacking regressor (for regression tasks)\n",
    "mse_stacking_1 = mean_squared_error(y_test, y_pred_stacking_1)\n",
    "print(f\"Mean Squared Error: {mse_stacking_1}\")\n",
    "\n",
    "rmse_stacking_1 = np.sqrt(mse_stacking_1)\n",
    "print(f\"RMSE: {rmse_stacking_1:.3f}\")\n",
    "\n",
    "r_2_stacking_1 = r2_score(y_test, y_pred_stacking_1)\n",
    "print(f\"R^2: {r_2_stacking_1:.3f}\")\n",
    "\n",
    "p = X_test.shape[1]\n",
    "n = len(y_test)\n",
    "adjusted_r2_stacking_1 = 1 - (1 - r_2_stacking_1) * (n - 1) / (n - p - 1)\n",
    "print(f\"Adjusted R^2: {adjusted_r2_stacking_1:.3f}\")\n"
   ]
  },
  {
   "cell_type": "code",
   "execution_count": null,
   "metadata": {},
   "outputs": [],
   "source": [
    "# Check if the final estimator is a Linear Regression model\n",
    "final_estimator_1 = stacking_regressor_1.final_estimator_\n",
    "if isinstance(final_estimator_1, LinearRegression):\n",
    "    # Get the coefficients (weights) assigned to each base model's prediction\n",
    "    coefficients = final_estimator_1.coef_\n",
    "    \n",
    "    # Create a list of base model names\n",
    "    base_model_names = [model[0] for model in base_regressors_1]\n",
    "    \n",
    "    # Create a dictionary mapping base model names to their coefficients\n",
    "    model_coefficients = dict(zip(base_model_names, coefficients))\n",
    "    \n",
    "    # Display the coefficients (weights) along with base model names\n",
    "    print(\"Final Linear Regression Model Coefficients (Weights):\")\n",
    "    for model_name, coefficient in model_coefficients.items():\n",
    "        print(f\"Base Model: {model_name}, Coefficient (Weight): {coefficient:.4f}\")\n",
    "else:\n",
    "    print(\"Final estimator is not a Linear Regression model.\")\n"
   ]
  },
  {
   "cell_type": "code",
   "execution_count": null,
   "metadata": {},
   "outputs": [],
   "source": [
    "# Only two models: Linear Regression and Extra Trees\n",
    "linear_regressor = LinearRegression()\n",
    "et_regressor = ExtraTreesRegressor(n_estimators=500, max_depth=None, min_samples_leaf=1, min_samples_split=2, random_state=42)\n",
    "\n",
    "# A list of tuples with the model name and the model\n",
    "base_regressors_2 = [\n",
    "    ('LinearRegression', linear_regressor),\n",
    "    ('ExtraTrees', et_regressor)\n",
    "]\n",
    "\n",
    "# Create the StackingRegressor with Linear Regression as the final estimator\n",
    "final_estimator_2 = LinearRegression()\n",
    "stacking_regressor_2 = StackingRegressor(estimators=base_regressors_2, final_estimator=final_estimator_2, n_jobs=-1)\n",
    "\n",
    "# Train the stacking regressor on the training data\n",
    "stacking_regressor_2.fit(X_train, y_train)\n",
    "\n",
    "# Make predictions on the test data using stacking_regressor_2\n",
    "y_pred_stacking_2 = stacking_regressor_2.predict(X_test)\n",
    "\n",
    "# Evaluate the stacking regressor (for regression tasks)\n",
    "mse_stacking_2 = mean_squared_error(y_test, y_pred_stacking_2)\n",
    "print(f\"Mean Squared Error: {mse_stacking_2}\")\n",
    "\n",
    "rmse_stacking_2 = np.sqrt(mse_stacking_2)\n",
    "print(f\"RMSE: {rmse_stacking_2:.3f}\")\n",
    "\n",
    "r_2_stacking_2 = r2_score(y_test, y_pred_stacking_2)\n",
    "print(f\"R^2: {r_2_stacking_2:.3f}\")\n",
    "\n",
    "p = X_test.shape[1]\n",
    "n = len(y_test)\n",
    "adjusted_r2_stacking_2 = 1 - (1 - r_2_stacking_2) * (n - 1) / (n - p - 1)\n",
    "print(f\"Adjusted R^2: {adjusted_r2_stacking_2:.3f}\")\n"
   ]
  },
  {
   "cell_type": "code",
   "execution_count": null,
   "metadata": {},
   "outputs": [],
   "source": [
    "# The final_estimator is set to RandomForest\n",
    "linear_regressor = LinearRegression()\n",
    "knn_regressor = KNeighborsRegressor(n_neighbors=20, p=1, weights='distance')\n",
    "gb_regressor = GradientBoostingRegressor(n_estimators=500, learning_rate=0.2, max_depth=5, min_samples_leaf=4, min_samples_split=10, random_state=42)\n",
    "et_regressor = ExtraTreesRegressor(n_estimators=500, max_depth=None, min_samples_leaf=1, min_samples_split=2, random_state=42)\n",
    "\n",
    "# A list of tuples with the model name and the model\n",
    "base_regressors_3 = [\n",
    "    ('LinearRegression', linear_regressor),\n",
    "    ('KNeighbors', knn_regressor),\n",
    "    ('GradientBoosting', gb_regressor),\n",
    "    ('ExtraTrees', et_regressor)\n",
    "]\n",
    "\n",
    "# Create the StackingRegressor with Linear Regression as the final estimator\n",
    "final_estimator_3 = RandomForestRegressor(n_estimators=100, random_state=42)\n",
    "stacking_regressor_3 = StackingRegressor(estimators=base_regressors_3, final_estimator=final_estimator_3, n_jobs=-1)\n",
    "\n",
    "# Train the stacking regressor on the training data\n",
    "stacking_regressor_3.fit(X_train, y_train)\n",
    "\n",
    "# Make predictions on the test data using stacking_regressor_3\n",
    "y_pred_stacking_3 = stacking_regressor_3.predict(X_test)\n",
    "\n",
    "# Evaluate the stacking regressor (for regression tasks)\n",
    "mse_stacking_3 = mean_squared_error(y_test, y_pred_stacking_3)\n",
    "print(f\"Mean Squared Error: {mse_stacking_3}\")\n",
    "\n",
    "rmse_stacking_3 = np.sqrt(mse_stacking_3)\n",
    "print(f\"RMSE: {rmse_stacking_3:.3f}\")\n",
    "\n",
    "r_2_stacking_3 = r2_score(y_test, y_pred_stacking_3)\n",
    "print(f\"R^2: {r_2_stacking_3:.3f}\")\n",
    "\n",
    "p = X_test.shape[1]\n",
    "n = len(y_test)\n",
    "adjusted_r2_stacking_3 = 1 - (1 - r_2_stacking_3) * (n - 1) / (n - p - 1)\n",
    "print(f\"Adjusted R^2: {adjusted_r2_stacking_3:.3f}\")\n"
   ]
  },
  {
   "cell_type": "markdown",
   "metadata": {},
   "source": [
    "# Prediction with the Best Model"
   ]
  },
  {
   "cell_type": "code",
   "execution_count": null,
   "metadata": {},
   "outputs": [],
   "source": [
    "test = df_drop_test.drop(['place_id', 'date', 'year'], axis=1)\n",
    "\n",
    "\n",
    "test = pd.get_dummies(test, columns=['month', 'day'])\n",
    "test.shape"
   ]
  },
  {
   "cell_type": "code",
   "execution_count": null,
   "metadata": {},
   "outputs": [],
   "source": [
    "target_predicted = stacking_regressor.predict(test)\n",
    "\n",
    "sub = pd.read_csv('data/SampleSubmission.csv')"
   ]
  },
  {
   "cell_type": "code",
   "execution_count": null,
   "metadata": {},
   "outputs": [],
   "source": [
    "results_df = pd.DataFrame({\"Place_ID X Date\":sub['Place_ID X Date'], \"target\": np.clip(target_predicted, 0, a_max=None)})\n",
    "\n",
    "results_df.to_csv(\"trail.csv\", index=False)"
   ]
  },
  {
   "cell_type": "code",
   "execution_count": null,
   "metadata": {},
   "outputs": [],
   "source": [
    "output = pd.read_csv('trail.csv')\n",
    "output.head(4)"
   ]
  },
  {
   "cell_type": "code",
   "execution_count": null,
   "metadata": {},
   "outputs": [],
   "source": [
    "output['target'] = np.exp(output['target'])\n",
    "output.head(10)"
   ]
  },
  {
   "cell_type": "code",
   "execution_count": null,
   "metadata": {},
   "outputs": [],
   "source": [
    "output.to_csv('submission_results.csv', index = False)"
   ]
  }
 ],
 "metadata": {
  "kernelspec": {
   "display_name": ".venv",
   "language": "python",
   "name": "python3"
  },
  "language_info": {
   "codemirror_mode": {
    "name": "ipython",
    "version": 3
   },
   "file_extension": ".py",
   "mimetype": "text/x-python",
   "name": "python",
   "nbconvert_exporter": "python",
   "pygments_lexer": "ipython3",
   "version": "3.11.3"
  }
 },
 "nbformat": 4,
 "nbformat_minor": 2
}
